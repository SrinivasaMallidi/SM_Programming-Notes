{
 "cells": [
  {
   "cell_type": "markdown",
   "id": "5fa0709c",
   "metadata": {},
   "source": [
    "* Generally, a large code base project contains multiple modules and hence requires multiple test modules.\n",
    "\n",
    "* It is always good to keep all test modules as a unit and separate it from development code.\n",
    "\n",
    "* A Test package is nothing but a python package containing all test modules in it.\n",
    "\n",
    "* In this topic, you will see how to create a test package from various test modules and organise the entire project for test automation.\n",
    "\n",
    "# Test Package structure\n",
    "Now let's create a test package by following the below steps.\n",
    "\n",
    "* Create a folder named Project1.\n",
    "* Create a subfolder named test in Project1.\n",
    "* Create a file named __init__.py in Project1/test folder.\n",
    "* Move the file test_module1.py into Project1/test folder.\n",
    "* Add the expression all = ['test_module1'] into __init__.py file and save it.\n",
    "\n",
    "The folder test now acts like a test package. You can also add any number of test modules to test directory.\n",
    "\n",
    "# Running the Test Module\n",
    "\n",
    "Once the test package is created, let's run tests present in test_module1.py file with below command from Project1 folder."
   ]
  },
  {
   "cell_type": "raw",
   "id": "d49d62c9",
   "metadata": {},
   "source": [
    "python -m unittest test.test_module1"
   ]
  },
  {
   "cell_type": "markdown",
   "id": "feaa0341",
   "metadata": {},
   "source": [
    "* The above command throws an error stating No module named 'sample_module'.\n",
    "\n",
    "* The error occurs since the file sample_module.py is not present any where in the folder Project1.\n",
    "\n",
    "# Organising the Code\n",
    "In order to avoid the error, let's create another package for storing development code and place sample_module.py in it.\n",
    "\n",
    "Following the below steps for creating a separate package for development code.\n",
    "\n",
    "* Create a subfolder named proj inside Project1 folder.\n",
    "* Create a file named __init__.py inside Project1/proj folder.\n",
    "* Move the file sample_module.py into Project1/proj folder.\n",
    "* Add the expression into all = ['sample_module'] into __init__.py file present in Project1/proj folder.\n",
    "\n",
    "# Running the Test Module\n",
    "\n",
    "Once again when you run the below command from Project folder, it will throw the same error seen previously."
   ]
  },
  {
   "cell_type": "raw",
   "id": "6ed1bb67",
   "metadata": {},
   "source": [
    "python -m unittest test.test_module1"
   ]
  },
  {
   "cell_type": "markdown",
   "id": "0d7b8ebd",
   "metadata": {},
   "source": [
    "* Though sample_module.py file is available, the error occurs because the file is in Project1/proj and not in Project1 folder.\n",
    "* In order to run the test module successfully, modify the line from sample_module ... to from proj.sample_module ... in test_module1.py."
   ]
  },
  {
   "cell_type": "markdown",
   "id": "d558ff42",
   "metadata": {},
   "source": [
    "After modifying test_module1.py, run the below command."
   ]
  },
  {
   "cell_type": "raw",
   "id": "71e1ffe2",
   "metadata": {},
   "source": [
    "python -m unittest test.test_module1"
   ]
  },
  {
   "cell_type": "markdown",
   "id": "51482d27",
   "metadata": {},
   "source": [
    "Output:"
   ]
  },
  {
   "cell_type": "raw",
   "id": "905d7240",
   "metadata": {},
   "source": [
    "Executed before an test in the module is run\n",
    "Executed before any test in the class runs\n",
    "Executed before start of every test\n",
    "Executed at the end of every test\n",
    ".Executed before start of every test\n",
    "Executed at the end of every test\n",
    ".Executed after all tests in class are run\n",
    "...Executed after all tests in module are run\n",
    "-----------\n",
    "Ran 5 tests in 0.010s\n",
    "\n",
    "OK"
   ]
  },
  {
   "cell_type": "markdown",
   "id": "090b934c",
   "metadata": {},
   "source": [
    "# Test Discovery\n",
    "\n",
    "* Test Discovery is the process of finding all tests present in a project folder and executing them automatically.\n",
    "\n",
    "* Test Discovery plays a vital role in automating all tests.\n",
    "\n",
    "* You can achieve it by running the below command from Project1 folder."
   ]
  },
  {
   "cell_type": "raw",
   "id": "15bf3493",
   "metadata": {},
   "source": [
    "python -m unittest discover"
   ]
  },
  {
   "cell_type": "markdown",
   "id": "33db6cad",
   "metadata": {},
   "source": [
    "* discover is the option used for performing test discovery.\n",
    "\n",
    "* By default, unittest starts finding all tests from the working directory.\n",
    "\n",
    "# Conventions for Test Discovery\n",
    "* In order to discover all the tests in test modules, you have to follow below conventions while writing the tests.\n",
    "\n",
    "* All files containing tests must be either modules or packages. In case of packages, they must be importable from top directory of the project.\n",
    "\n",
    "* By default, test discovery always searches for modules or packages starting with test pattern in their names. test pattern is case insensitive.\n",
    "\n",
    "* By default, the test discovery always starts from working directory and it is recursive."
   ]
  },
  {
   "cell_type": "code",
   "execution_count": null,
   "id": "55bcb90d",
   "metadata": {},
   "outputs": [],
   "source": []
  }
 ],
 "metadata": {
  "kernelspec": {
   "display_name": "Python 3 (ipykernel)",
   "language": "python",
   "name": "python3"
  },
  "language_info": {
   "codemirror_mode": {
    "name": "ipython",
    "version": 3
   },
   "file_extension": ".py",
   "mimetype": "text/x-python",
   "name": "python",
   "nbconvert_exporter": "python",
   "pygments_lexer": "ipython3",
   "version": "3.9.12"
  }
 },
 "nbformat": 4,
 "nbformat_minor": 5
}
