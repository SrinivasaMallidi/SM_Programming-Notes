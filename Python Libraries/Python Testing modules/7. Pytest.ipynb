{
 "cells": [
  {
   "cell_type": "markdown",
   "id": "91c6f1a2",
   "metadata": {},
   "source": [
    "* Pytest is another third party python library, used for unit testing.\n",
    "\n",
    "* Pytest can be installed using pip as shown below."
   ]
  },
  {
   "cell_type": "raw",
   "id": "88eb2fc9",
   "metadata": {},
   "source": [
    "pip install pytest"
   ]
  },
  {
   "cell_type": "markdown",
   "id": "d520dd2f",
   "metadata": {},
   "source": [
    "Successful installation of pytest can be verified by executing the below command at command prompt."
   ]
  },
  {
   "cell_type": "raw",
   "id": "bbc83042",
   "metadata": {},
   "source": [
    "py.test --version"
   ]
  },
  {
   "cell_type": "markdown",
   "id": "756ced6a",
   "metadata": {},
   "source": [
    "# Writing your first pytest test\n",
    "\n",
    "Write the below shown sample function test_sample_pytest_test in sample_pytest_test.py."
   ]
  },
  {
   "cell_type": "raw",
   "id": "b93b0698",
   "metadata": {},
   "source": [
    "def test_sample_pytest_test():\n",
    "    assert 'HELLO' == 'hello'.upper()"
   ]
  },
  {
   "cell_type": "markdown",
   "id": "27e043d8",
   "metadata": {},
   "source": [
    "Similar to nose, it is not mandatory while using pytest to derive a test case from a parent class."
   ]
  },
  {
   "cell_type": "markdown",
   "id": "c993a5de",
   "metadata": {},
   "source": [
    "# Running the sample test\n",
    "\n",
    "You can run the sample test in sample_pytest_test.py using the below command."
   ]
  },
  {
   "cell_type": "raw",
   "id": "8a417518",
   "metadata": {},
   "source": [
    "python -m pytest sample_pytest_test.py"
   ]
  },
  {
   "cell_type": "markdown",
   "id": "9d147d92",
   "metadata": {},
   "source": [
    "Output:"
   ]
  },
  {
   "cell_type": "raw",
   "id": "e12d9355",
   "metadata": {},
   "source": [
    "=== test session starts ===\n",
    "platform ...\n",
    "rootdir: ... ,\n",
    "inifile:\n",
    "collected 1 item                                                               \n",
    "\n",
    "sample_pytest_test.py .                                                  [100%]\n",
    "\n",
    "=== 1 passed in 0.08 seconds ==="
   ]
  },
  {
   "cell_type": "markdown",
   "id": "46268d5c",
   "metadata": {},
   "source": [
    "You can obtain verbose output by using -v option.\n",
    "\n",
    "You can also run the sample test using py.test command as shown belo"
   ]
  },
  {
   "cell_type": "raw",
   "id": "ef17bc6d",
   "metadata": {},
   "source": [
    "py.test sample_pytest_test.py"
   ]
  },
  {
   "cell_type": "markdown",
   "id": "8618681b",
   "metadata": {},
   "source": [
    "# Creating a Project\n",
    "* Similar to Project1 and Project2, let's create a new project named Project3.\n",
    "\n",
    "* Create sub folders proj and test inside Project3.\n",
    "\n",
    "* Create two empty files named __init__.py inside proj and test folders respectively.\n",
    "\n",
    "* Create a copy of Project3/proj/sample_module.py and place it in Project3/proj/sample_module.py.\n",
    "\n",
    "* Add the line all = ['sample_module'] to Project3/proj/__init__.py file."
   ]
  },
  {
   "cell_type": "markdown",
   "id": "4ecb81e7",
   "metadata": {},
   "source": [
    "# Creating a Test Module\n",
    "* Create an empty test module named test_module1.py inside test folder.\n",
    "\n",
    "* Add the following code to Project3/test/test_module1.py"
   ]
  },
  {
   "cell_type": "raw",
   "id": "f3eae83a",
   "metadata": {},
   "source": [
    "from proj.sample_module import add2num\n",
    "\n",
    "class Testadd2num:\n",
    "\n",
    "    def test_sum_2pos_num(self):\n",
    "      assert add2num(6, 7)==13\n",
    "\n",
    "    def test_sum_1pos_and_1neg_num(self):\n",
    "      assert add2num(-10, 9)==-1"
   ]
  },
  {
   "cell_type": "markdown",
   "id": "9d17958a",
   "metadata": {},
   "source": [
    "* Add the line all = ['test_module1'] to Project3/test/__init__.py file."
   ]
  },
  {
   "cell_type": "markdown",
   "id": "6c499983",
   "metadata": {},
   "source": [
    "# Running the Test Module\n",
    "* You can run all the tests present in test module test_module1.py using the below command."
   ]
  },
  {
   "cell_type": "raw",
   "id": "bdaf9268",
   "metadata": {},
   "source": [
    "py.test -v test"
   ]
  },
  {
   "cell_type": "markdown",
   "id": "e1e64a6b",
   "metadata": {},
   "source": [
    "* You can run a single test module in a package with the following command"
   ]
  },
  {
   "cell_type": "raw",
   "id": "69ef305b",
   "metadata": {},
   "source": [
    "py.test -v test/test_module1.py"
   ]
  },
  {
   "cell_type": "markdown",
   "id": "4ef9e9c4",
   "metadata": {},
   "source": [
    "* You can also run a specific test class as shown below"
   ]
  },
  {
   "cell_type": "raw",
   "id": "61aeeab9",
   "metadata": {},
   "source": [
    "py.test -v test/test_module1.py::Testadd2num"
   ]
  },
  {
   "cell_type": "markdown",
   "id": "e4154cbd",
   "metadata": {},
   "source": [
    "* You can also run a specific test class method as"
   ]
  },
  {
   "cell_type": "raw",
   "id": "354432e9",
   "metadata": {},
   "source": [
    "py.test -v test/test_module1.py::Testadd2num::test_sum_2pos_nu"
   ]
  },
  {
   "cell_type": "markdown",
   "id": "be332f5f",
   "metadata": {},
   "source": [
    "# Test Discovery\n",
    "* Test discovery can be easily done with pytest.\n",
    "\n",
    "* Just executing the command py.test -v from a project folder will detect and run all tests present in that project.\n",
    "\n",
    "* Output of running py.test -v from Project3 folder is shown below."
   ]
  },
  {
   "cell_type": "raw",
   "id": "780980bc",
   "metadata": {},
   "source": [
    "=== test session starts ===\n",
    "platform win32 ...\n",
    "cachedir: ...\n",
    "rootdir: ...\n",
    "inifile:\n",
    "collected 2 items                                                             \n",
    "\n",
    "test/test_module1.py::Testadd2num::test_sum_2pos_num PASSED              [ 50%]\n",
    "test/test_module1.py::Testadd2num::test_sum_1pos_and_1neg_num PASSED     [ 100%]\n",
    "\n",
    "=== 2 passed in 0.001 seconds ==="
   ]
  },
  {
   "cell_type": "markdown",
   "id": "3c79d4a4",
   "metadata": {},
   "source": [
    "# Pytest Fixtures\n",
    "* pytest has xUnit-style of fixtures.\n",
    "\n",
    "* setup_module and teardown_module are module level fixtures.\n",
    "\n",
    "* setup_class and teardown_class are class level fixtures. These fixtures need to be decorated with @classmethod.\n",
    "\n",
    "* setup_method and teardown_method are method level fixtures.\n",
    "\n",
    "* setup_function and teardown_function are function level fixtures.\n",
    "\n",
    "* Apart from these fixtures, pytest also supports defining customised fixtures and using it for a specific method or function."
   ]
  },
  {
   "cell_type": "markdown",
   "id": "53a684df",
   "metadata": {},
   "source": [
    "# Skipping Tests\n",
    "* To skip any of the test cases, unconditionally, pytest.mark.skip is used.\n",
    "\n",
    "* It's usage syntax is shown below"
   ]
  },
  {
   "cell_type": "raw",
   "id": "d70ef908",
   "metadata": {},
   "source": [
    "@pytest.mark.skip(reason for skipping)\n",
    "def test_sample():\n",
    "   ...."
   ]
  },
  {
   "cell_type": "markdown",
   "id": "00f7057a",
   "metadata": {},
   "source": [
    "* You can decorate a class, if you would like to skip all the tests, present in a test class.\n",
    "\n",
    "* You can skip tests based on conditions using pytest.mark.skipif decorator.\n",
    "\n",
    "* It's sample usage is shown below."
   ]
  },
  {
   "cell_type": "raw",
   "id": "4ea5f4ed",
   "metadata": {},
   "source": [
    "@pytest.mark.skipif(condition, reason for skipping)\n",
    "def test_sample():\n",
    "   ...."
   ]
  },
  {
   "cell_type": "markdown",
   "id": "3233ef16",
   "metadata": {},
   "source": [
    "# Detecting tests raising Exceptions\n",
    "* pytest uses pytest.raises in a context to detect exceptions in a test.\n",
    "\n",
    "* Add the below shown code to test_module1.py. It uses pytest.raises and occurrence of TypeError is considered as a test pass.\n",
    "\n"
   ]
  },
  {
   "cell_type": "raw",
   "id": "40402ba0",
   "metadata": {},
   "source": [
    "import pytest\n",
    "\n",
    "def test_using_raises():\n",
    "    with pytest.raises(TypeError):\n",
    "        2+'3' == 5"
   ]
  },
  {
   "cell_type": "markdown",
   "id": "08b5d3cf",
   "metadata": {},
   "source": [
    "# Test Reports Generation\n",
    " * With pytest, tests reports can be generated in various formats such as text, xml and html.\n",
    "\n",
    "* Result can be generated in plain text with --resultlog option.\n",
    "\n",
    "* For example, the below command creates result.txt report in text format."
   ]
  },
  {
   "cell_type": "raw",
   "id": "60d7ee83",
   "metadata": {},
   "source": [
    "py.test --resultlog=result.txt"
   ]
  },
  {
   "cell_type": "markdown",
   "id": "936af9ca",
   "metadata": {},
   "source": [
    "* --junitxml is used for generating reports in xml format."
   ]
  },
  {
   "cell_type": "raw",
   "id": "e282f72e",
   "metadata": {},
   "source": [
    "py.test --junitxml=result.xml"
   ]
  },
  {
   "cell_type": "markdown",
   "id": "81ae60b8",
   "metadata": {},
   "source": [
    "* pytest-html is the required third party module for generating reports in html format."
   ]
  },
  {
   "cell_type": "markdown",
   "id": "b93b89a5",
   "metadata": {},
   "source": [
    "# Pros and Cons\n",
    "Pros\n",
    "* pytest is better than unittest. The testing code is simpler and cleaner.\n",
    "\n",
    "* Unlike nose, pytest is under active development.\n",
    "\n",
    "* pytest has great features for controlling the test execution.\n",
    "\n",
    "* pytest can also run unittest tests.\n",
    "\n",
    "* pytest can be extended with plugins such as code coverage, and parallel execution.\n",
    "\n",
    "Cons\n",
    "\n",
    "* Advanced features of pytest, especially concepts of fixtures need to be explored well before using pytest."
   ]
  },
  {
   "cell_type": "markdown",
   "id": "d6058829",
   "metadata": {},
   "source": [
    "coding test"
   ]
  },
  {
   "cell_type": "raw",
   "id": "112b0960",
   "metadata": {},
   "source": [
    "import sys\n",
    "import os\n",
    "sys.path.append(os.getcwd())\n",
    "from proj.inventory import MobileInventory, InsufficientException\n",
    "import pytest\n",
    "\n",
    "# Import MobileInventory class and InsufficientException from the inventory module using the expression from proj.inventory import MobileInventory, InsufficientException.\n",
    "# Import pytest using the expression import pytest.\n",
    "# Use assert statement for assert, and to check. Ex: assert 1 == 1\n",
    "\n",
    "# Define a pytest test class **'TestingInventoryCreation'**\n",
    "class TestingInventoryCreation:\n",
    "\n",
    "    # Define a pytest test method **'test_creating_empty_inventory'**, which creates an empty inventory and checks if its 'balance_inventory' is an empty dict using assert.\n",
    "    def test_creating_empty_inventory(self):\n",
    "        x = MobileInventory()\n",
    "        assert x.balance_inventory == {}\n",
    "\n",
    "    # Define a pytest test method **'test_creating_specified_inventory'**, which checks if inventory instance with input {'iPhone Model X':100, 'Xiaomi Model Y': 1000, 'Nokia Model Z':25}.\n",
    "    def test_creating_specified_inventory(self):\n",
    "        x = MobileInventory({'iPhone Model X':100, 'Xiaomi Model Y': 1000, 'Nokia Model Z':25})\n",
    "        assert {'iPhone Model X':100, 'Xiaomi Model Y': 1000, 'Nokia Model Z':25} == x.balance_inventory\n",
    "\n",
    "    # Define a pytest test method  **'test_creating_inventory_with_list'**, which checks if the  method raises a TypeError with the message \"Input inventory must be a dictionary\" when a list \"['iPhone Model X', 'Xiaomi Model Y', 'Nokia Model Z']\" is passed as input using assert.\n",
    "    def test_creating_inventory_with_list(self):\n",
    "        with pytest.raises(TypeError) :\n",
    "          assert \"Input inventory must be a dictionary\" == MobileInventory(['iPhone Model X', 'Xiaomi Model Y', 'Nokia Model Z'])\n",
    "\n",
    "    # Define a pytest test method **'test_creating_inventory_with_numeric_keys'**, which checks if the  method raises a ValueError with the message \"Mobile model name must be a string\" using assert, when the dict {1:'iPhone Model X', 2:'Xiaomi Model Y', 3:'Nokia Model Z'} is passed as input.\n",
    "    def test_creating_inventory_with_numeric_keys(self):\n",
    "        with pytest.raises(ValueError):\n",
    "          assert \"Mobile model name must be a string\" == MobileInventory({1: 'iPhone Model X', 2: 'Xiaomi Model Y', 3: 'Nokia Model Z'})\n",
    "\n",
    "    # Define a pytest test method **'test_creating_inventory_with_nonnumeric_values'**, which checks if the  method raises a ValueError with the message \"No. of mobiles must be a positive integer\" using assert, when the dict {'iPhone Model X':'100', 'Xiaomi Model Y': '1000', 'Nokia Model Z':'25'} is passed as input.\n",
    "    def test_creating_inventory_with_nonnumeric_values(self):\n",
    "        with pytest.raises(ValueError) :\n",
    "          assert \"No. of mobiles must be a positive integer\" == MobileInventory({ 'iPhone Model X':'100', 'Xiaomi Model Y': '1000', 'Nokia Model Z':'25'})\n",
    "\n",
    "    # Define a pytest test method **'test_creating_inventory_with_negative_value'**, which checks if the  method raises a ValueError with the message \"No. of mobiles must be a positive integer\" using assert, when the dict {'iPhone Model X':-45, 'Xiaomi Model Y': 200, 'Nokia Model Z':25} is passed as input.\n",
    "    def test_creating_inventory_with_negative_value(self):\n",
    "        with pytest.raises(ValueError):\n",
    "          assert \"No. of mobiles must be a positive integer\" == MobileInventory({'iPhone Model X':-45, 'Xiaomi Model Y': 200, 'Nokia Model Z':25})\n",
    "\n",
    "# Define another pytest test class **'TestInventoryAddStock'**, which tests the behavior of the **'add_stock'** method, with the following tests\n",
    "class TestInventoryAddStock:\n",
    "\n",
    "    # Define a pytest class fixture 'setup_class', which creates an **'MobileInventory'** instance with input {'iPhone Model X':100, 'Xiaomi Model Y': 1000, 'Nokia Model Z':25} and assign it to class attribute **'inventory'**.\n",
    "    inventory = None\n",
    "    @classmethod\n",
    "    def setup_class(cls):\n",
    "        cls.inventory = MobileInventory({'iPhone Model X':100, 'Xiaomi Model Y': 1000, 'Nokia Model Z':25})\n",
    "\n",
    "    # Define a pytest test method **'test_add_new_stock_as_dict'**, which adds the new stock {'iPhone Model X':50, 'Xiaomi Model Y': 2000, 'Nokia Model A':10} to the existing inventory, and update the **balance_inventory** attribute. Also, check if the updated **balance_inventory** equals {'iPhone Model X':150, 'Xiaomi Model Y': 3000, 'Nokia Model Z':25, 'Nokia Model A':10} using assert.\n",
    "    def test_add_new_stock_as_dict(self):\n",
    "        self.inventory.add_stock({'iPhone Model X': 50, 'Xiaomi Model Y': 2000, 'Nokia Model A': 10})\n",
    "        assert {'iPhone Model X':150, 'Xiaomi Model Y': 3000, 'Nokia Model Z':25,'Nokia Model A':10} == self.inventory.balance_inventory\n",
    "\n",
    "    # Define a pytest test method **'test_add_new_stock_as_list'**, which adds the new stock ['iPhone Model X', 'Xiaomi Model Y', 'Nokia Model Z'] to the existing inventory, and which checks if the method raises a TypeError with the message \"Input stock must be a dictionary\" using assert.\n",
    "    def test_add_new_stock_as_list(self):\n",
    "        with pytest.raises(TypeError):\n",
    "          assert \"Input stock must be a dictionary\" == MobileInventory.add_stock(self, ['iPhone Model X', 'Xiaomi Model Y', 'Nokia Model Z'])\n",
    "\n",
    "    # Define a pytest test method **'test_add_new_stock_with_numeric_keys'**, which adds the new stock {1:'iPhone Model A', 2:'Xiaomi Model B', 3:'Nokia Model C'} to the existing inventory, and which checks if the method raises a ValueError with the message \"Mobile model name must be a string\" using assert.\n",
    "    def test_add_new_stock_with_numeric_keys(self):\n",
    "        with pytest.raises(ValueError):\n",
    "          assert \"Mobile model name must be a string\" == MobileInventory.add_stock(self, {1: 'iPhone Model A', 2: 'Xiaomi Model B',3: 'Nokia Model C'})\n",
    "\n",
    "    # Define a pytest test method **'test_add_new_stock_with_nonnumeric_values'**, which adds the new stock {'iPhone Model A':'50', 'Xiaomi Model B':'2000', 'Nokia Model C':'25'} to the existing inventory, and which checks if the method raises a ValueError with the message \"No. of mobiles must be a positive integer\" using assert.\n",
    "    def test_add_new_stock_with_nonnumeric_values(self):\n",
    "        with pytest.raises(ValueError):\n",
    "          assert \"No. of mobiles must be a positive integer\" == MobileInventory.add_stock(self, {'iPhone Model A': '50', 'Xiaomi Model B': '2000', 'Nokia Model C': '25'})\n",
    "\n",
    "    # Define a pytest test method **'test_add_new_stock_with_float_values'**, which adds the new stock {'iPhone Model A':50.5, 'Xiaomi Model B':2000.3, 'Nokia Model C':25} to the existing inventory, and which checks if the method raises a ValueError with the message \"No. of mobiles must be a positive integer\" using assert.\n",
    "    def test_add_new_stock_with_float_values(self):\n",
    "        with pytest.raises(ValueError):\n",
    "          assert \"No. of mobiles must be a positive integer\" == MobileInventory.add_stock(self, {'iPhone Model A': 50.5, 'Xiaomi Model B': 2000.3, 'Nokia Model C': 25})\n",
    "\n",
    "# Define another pytest test class **'TestInventorySellStock'**, which tests the behavior of the **'sell_stock'** method, with the following tests\n",
    "class TestInventorySellStock:\n",
    "    \n",
    "    # Define a pytest class fixture 'setup_class', which creates an **'MobileInventory'** instance with the input {'iPhone Model A':50, 'Xiaomi Model B': 2000, 'Nokia Model C':10, 'Sony Model D':1}, and assign it to the class attribute **'inventory'**.\n",
    "    inventory = None\n",
    "    @classmethod\n",
    "    def setup_class(cls):\n",
    "        cls.inventory = MobileInventory({ 'iPhone Model A': 50, 'Xiaomi Model B': 2000, 'Nokia Model C': 10, 'Sony Model D': 1})\n",
    "\n",
    "    # Define a pytest test method **'test_sell_stock_as_dict'**, which sells the requested stock {'iPhone Model A':2, 'Xiaomi Model B':20, 'Sony Model D':1} from the existing inventory, and update the **balance_inventory** attribute. Also check if the updated **balance_inventory** equals {'iPhone Model A':48, 'Xiaomi Model B': 1980, 'Nokia Model C':10, 'Sony Model D':0} using assert.\n",
    "    def test_sell_stock_as_dict(self):\n",
    "        self.inventory.sell_stock({'iPhone Model A': 2, 'Xiaomi Model B': 20, 'Sony Model D': 1})\n",
    "        assert {'iPhone Model A':48, 'Xiaomi Model B': 1980, 'Nokia Model C':10, 'Sony Model D':0} == self.inventory.balance_inventory\n",
    "\n",
    "    # Define a pytest test method **'test_sell_stock_as_list'**, which tries selling the requested stock ['iPhone Model A', 'Xiaomi Model B', 'Nokia Model C'] from the existing inventory, and which checks if the method raises a TypeError with the message \"Requested stock must be a dictionary\" using assert.\n",
    "    def test_sell_stock_as_list(self):\n",
    "        with pytest.raises(TypeError):\n",
    "          assert \"Requested stock must be a dictionary\" == MobileInventory.sell_stock(self, ['iPhone Model A', 'Xiaomi Model B', 'Nokia Model C'])\n",
    "\n",
    "    # Define a pytest test method **'test_sell_stock_with_numeric_keys'**, which tries selling the requested stock {1:'iPhone Model A', 2:'Xiaomi Model B', 3:'Nokia Model C'} from the existing inventory, and which checks if the method raises ValueError with the message \"Mobile model name must be a string\" using assert.\n",
    "    def test_sell_stock_with_numeric_keys(self):\n",
    "        with pytest.raises(ValueError):\n",
    "          assert \"Mobile model name must be a string\" == MobileInventory.sell_stock(self, {1: 'iPhone Model A', 2: 'Xiaomi Model B', 3: 'Nokia Model C'})\n",
    "\n",
    "    # Define a pytest test method **'test_sell_stock_with_nonnumeric_values'**, which tries selling the requested stock {'iPhone Model A':'2', 'Xiaomi Model B':'3', 'Nokia Model C':'4'} from the existing inventory, and which checks if the method raises a ValueError with the message \"No. of mobiles must be a positive integer\" using assert.\n",
    "    def test_sell_stock_with_nonnumeric_values(self):\n",
    "        with pytest.raises(ValueError):\n",
    "          assert \"No. of mobiles must be a positive integer\" == MobileInventory.sell_stock(self, {'iPhone Model A': '2', 'Xiaomi Model B':'3', 'Nokia Model C': '4'})\n",
    "\n",
    "    # Define a pytest test method **'test_sell_stock_with_float_values'**, which tries selling the requested stock {'iPhone Model A':2.5, 'Xiaomi Model B':3.1, 'Nokia Model C':4} from the existing inventory, and which checks if the method raises a ValueError with the message \"No. of mobiles must be a positive integer\" using assert.\n",
    "    def test_sell_stock_with_float_values(self):\n",
    "        with pytest.raises(ValueError):\n",
    "          assert \"No. of mobiles must be a positive integer\" == MobileInventory.sell_stock(self, {'iPhone Model A': 2.5, 'Xiaomi Model B': 3.1, 'Nokia Model C': 4})\n",
    "\n",
    "    # Define a pytest test method **'test_sell_stock_of_nonexisting_model'**, which tries selling the requested stock {'iPhone Model B':2, 'Xiaomi Model B':5} from the existing inventory, and which checks if the method raises an InsufficientException with the message \"No Stock. New Model Request\" using assert.\n",
    "    def test_sell_stock_of_nonexisting_model(self):\n",
    "        with pytest.raises(InsufficientException):\n",
    "          assert \"No Stock. New Model Request\" == MobileInventory.sell_stock(self.inventory, {'iPhone Model B': 2, 'Xiaomi Model B': 5})\n",
    "\n",
    "    # Define a pytest test method **'test_sell_stock_of_insufficient_stock'**, which tries selling the requested stock {'iPhone Model A':2, 'Xiaomi Model B':5, 'Nokia Model C': 15} from the existing inventory, and which checks if the method raises an InsufficientException with the message \"Insufficient Stock\" using assert.\n",
    "    def test_sell_stock_of_insufficient_stock(self):\n",
    "        with pytest.raises(InsufficientException):\n",
    "          assert \"Insufficient Stock\" == MobileInventory.sell_stock(self.inventory, {'iPhone Model A': 2, 'Xiaomi Model B': 5, 'Nokia Model C': 15})  \n"
   ]
  },
  {
   "cell_type": "code",
   "execution_count": null,
   "id": "e5766879",
   "metadata": {
    "vscode": {
     "languageId": "plaintext"
    }
   },
   "outputs": [],
   "source": [
    "import sys\n",
    "import os\n",
    "sys.path.append(os.getcwd())\n",
    "from proj.inventory import MobileInventory, InsufficientException\n",
    "import pytest\n",
    "\n",
    "# Import MobileInventory class and InsufficientException from the inventory module using the expression from proj.inventory import MobileInventory, InsufficientException.\n",
    "# Import pytest using the expression import pytest.\n",
    "# Use assert statement for assert, and to check. Ex: assert 1 == 1\n",
    "\n",
    "# Define a pytest test class **'TestingInventoryCreation'**\n",
    "class TestingInventoryCreation:\n",
    "\n",
    "    # Define a pytest test method **'test_creating_empty_inventory'**, which creates an empty inventory and checks if its 'balance_inventory' is an empty dict using assert.\n",
    "    def test_creating_empty_inventory(self):\n",
    "        x = MobileInventory()\n",
    "        assert x.balance_inventory == {}\n",
    "\n",
    "    # Define a pytest test method **'test_creating_specified_inventory'**, which checks if inventory instance with input {'iPhone Model X':100, 'Xiaomi Model Y': 1000, 'Nokia Model Z':25}.\n",
    "    def test_creating_specified_inventory(self):\n",
    "        x = MobileInventory({'iPhone Model X':100, 'Xiaomi Model Y': 1000, 'Nokia Model Z':25})\n",
    "        assert {'iPhone Model X':100, 'Xiaomi Model Y': 1000, 'Nokia Model Z':25} == x.balance_inventory\n",
    "\n",
    "    # Define a pytest test method  **'test_creating_inventory_with_list'**, which checks if the  method raises a TypeError with the message \"Input inventory must be a dictionary\" when a list \"['iPhone Model X', 'Xiaomi Model Y', 'Nokia Model Z']\" is passed as input using assert.\n",
    "    def test_creating_inventory_with_list(self):\n",
    "        with pytest.raises(TypeError) :\n",
    "          assert \"Input inventory must be a dictionary\" == MobileInventory(['iPhone Model X', 'Xiaomi Model Y', 'Nokia Model Z'])\n",
    "\n",
    "    # Define a pytest test method **'test_creating_inventory_with_numeric_keys'**, which checks if the  method raises a ValueError with the message \"Mobile model name must be a string\" using assert, when the dict {1:'iPhone Model X', 2:'Xiaomi Model Y', 3:'Nokia Model Z'} is passed as input.\n",
    "    def test_creating_inventory_with_numeric_keys(self):\n",
    "        with pytest.raises(ValueError):\n",
    "          assert \"Mobile model name must be a string\" == MobileInventory({1: 'iPhone Model X', 2: 'Xiaomi Model Y', 3: 'Nokia Model Z'})\n",
    "\n",
    "    # Define a pytest test method **'test_creating_inventory_with_nonnumeric_values'**, which checks if the  method raises a ValueError with the message \"No. of mobiles must be a positive integer\" using assert, when the dict {'iPhone Model X':'100', 'Xiaomi Model Y': '1000', 'Nokia Model Z':'25'} is passed as input.\n",
    "    def test_creating_inventory_with_nonnumeric_values(self):\n",
    "        with pytest.raises(ValueError) :\n",
    "          assert \"No. of mobiles must be a positive integer\" == MobileInventory({ 'iPhone Model X':'100', 'Xiaomi Model Y': '1000', 'Nokia Model Z':'25'})\n",
    "\n",
    "    # Define a pytest test method **'test_creating_inventory_with_negative_value'**, which checks if the  method raises a ValueError with the message \"No. of mobiles must be a positive integer\" using assert, when the dict {'iPhone Model X':-45, 'Xiaomi Model Y': 200, 'Nokia Model Z':25} is passed as input.\n",
    "    def test_creating_inventory_with_negative_value(self):\n",
    "        with pytest.raises(ValueError):\n",
    "          assert \"No. of mobiles must be a positive integer\" == MobileInventory({'iPhone Model X':-45, 'Xiaomi Model Y': 200, 'Nokia Model Z':25})\n",
    "\n",
    "# Define another pytest test class **'TestInventoryAddStock'**, which tests the behavior of the **'add_stock'** method, with the following tests\n",
    "class TestInventoryAddStock:\n",
    "\n",
    "    # Define a pytest class fixture 'setup_class', which creates an **'MobileInventory'** instance with input {'iPhone Model X':100, 'Xiaomi Model Y': 1000, 'Nokia Model Z':25} and assign it to class attribute **'inventory'**.\n",
    "    inventory = None\n",
    "    @classmethod\n",
    "    def setup_class(cls):\n",
    "        cls.inventory = MobileInventory({'iPhone Model X':100, 'Xiaomi Model Y': 1000, 'Nokia Model Z':25})\n",
    "\n",
    "    # Define a pytest test method **'test_add_new_stock_as_dict'**, which adds the new stock {'iPhone Model X':50, 'Xiaomi Model Y': 2000, 'Nokia Model A':10} to the existing inventory, and update the **balance_inventory** attribute. Also, check if the updated **balance_inventory** equals {'iPhone Model X':150, 'Xiaomi Model Y': 3000, 'Nokia Model Z':25, 'Nokia Model A':10} using assert.\n",
    "    def test_add_new_stock_as_dict(self):\n",
    "        self.inventory.add_stock({'iPhone Model X': 50, 'Xiaomi Model Y': 2000, 'Nokia Model A': 10})\n",
    "        assert {'iPhone Model X':150, 'Xiaomi Model Y': 3000, 'Nokia Model Z':25,'Nokia Model A':10} == self.inventory.balance_inventory\n",
    "\n",
    "    # Define a pytest test method **'test_add_new_stock_as_list'**, which adds the new stock ['iPhone Model X', 'Xiaomi Model Y', 'Nokia Model Z'] to the existing inventory, and which checks if the method raises a TypeError with the message \"Input stock must be a dictionary\" using assert.\n",
    "    def test_add_new_stock_as_list(self):\n",
    "        with pytest.raises(TypeError):\n",
    "          assert \"Input stock must be a dictionary\" == MobileInventory.add_stock(self, ['iPhone Model X', 'Xiaomi Model Y', 'Nokia Model Z'])\n",
    "\n",
    "    # Define a pytest test method **'test_add_new_stock_with_numeric_keys'**, which adds the new stock {1:'iPhone Model A', 2:'Xiaomi Model B', 3:'Nokia Model C'} to the existing inventory, and which checks if the method raises a ValueError with the message \"Mobile model name must be a string\" using assert.\n",
    "    def test_add_new_stock_with_numeric_keys(self):\n",
    "        with pytest.raises(ValueError):\n",
    "          assert \"Mobile model name must be a string\" == MobileInventory.add_stock(self, {1: 'iPhone Model A', 2: 'Xiaomi Model B',3: 'Nokia Model C'})\n",
    "\n",
    "    # Define a pytest test method **'test_add_new_stock_with_nonnumeric_values'**, which adds the new stock {'iPhone Model A':'50', 'Xiaomi Model B':'2000', 'Nokia Model C':'25'} to the existing inventory, and which checks if the method raises a ValueError with the message \"No. of mobiles must be a positive integer\" using assert.\n",
    "    def test_add_new_stock_with_nonnumeric_values(self):\n",
    "        with pytest.raises(ValueError):\n",
    "          assert \"No. of mobiles must be a positive integer\" == MobileInventory.add_stock(self, {'iPhone Model A': '50', 'Xiaomi Model B': '2000', 'Nokia Model C': '25'})\n",
    "\n",
    "    # Define a pytest test method **'test_add_new_stock_with_float_values'**, which adds the new stock {'iPhone Model A':50.5, 'Xiaomi Model B':2000.3, 'Nokia Model C':25} to the existing inventory, and which checks if the method raises a ValueError with the message \"No. of mobiles must be a positive integer\" using assert.\n",
    "    def test_add_new_stock_with_float_values(self):\n",
    "        with pytest.raises(ValueError):\n",
    "          assert \"No. of mobiles must be a positive integer\" == MobileInventory.add_stock(self, {'iPhone Model A': 50.5, 'Xiaomi Model B': 2000.3, 'Nokia Model C': 25})\n",
    "\n",
    "# Define another pytest test class **'TestInventorySellStock'**, which tests the behavior of the **'sell_stock'** method, with the following tests\n",
    "class TestInventorySellStock:\n",
    "    \n",
    "    # Define a pytest class fixture 'setup_class', which creates an **'MobileInventory'** instance with the input {'iPhone Model A':50, 'Xiaomi Model B': 2000, 'Nokia Model C':10, 'Sony Model D':1}, and assign it to the class attribute **'inventory'**.\n",
    "    inventory = None\n",
    "    @classmethod\n",
    "    def setup_class(cls):\n",
    "        cls.inventory = MobileInventory({ 'iPhone Model A': 50, 'Xiaomi Model B': 2000, 'Nokia Model C': 10, 'Sony Model D': 1})\n",
    "\n",
    "    # Define a pytest test method **'test_sell_stock_as_dict'**, which sells the requested stock {'iPhone Model A':2, 'Xiaomi Model B':20, 'Sony Model D':1} from the existing inventory, and update the **balance_inventory** attribute. Also check if the updated **balance_inventory** equals {'iPhone Model A':48, 'Xiaomi Model B': 1980, 'Nokia Model C':10, 'Sony Model D':0} using assert.\n",
    "    def test_sell_stock_as_dict(self):\n",
    "        self.inventory.sell_stock({'iPhone Model A': 2, 'Xiaomi Model B': 20, 'Sony Model D': 1})\n",
    "        assert {'iPhone Model A':48, 'Xiaomi Model B': 1980, 'Nokia Model C':10, 'Sony Model D':0} == self.inventory.balance_inventory\n",
    "\n",
    "    # Define a pytest test method **'test_sell_stock_as_list'**, which tries selling the requested stock ['iPhone Model A', 'Xiaomi Model B', 'Nokia Model C'] from the existing inventory, and which checks if the method raises a TypeError with the message \"Requested stock must be a dictionary\" using assert.\n",
    "    def test_sell_stock_as_list(self):\n",
    "        with pytest.raises(TypeError):\n",
    "          assert \"Requested stock must be a dictionary\" == MobileInventory.sell_stock(self, ['iPhone Model A', 'Xiaomi Model B', 'Nokia Model C'])\n",
    "\n",
    "    # Define a pytest test method **'test_sell_stock_with_numeric_keys'**, which tries selling the requested stock {1:'iPhone Model A', 2:'Xiaomi Model B', 3:'Nokia Model C'} from the existing inventory, and which checks if the method raises ValueError with the message \"Mobile model name must be a string\" using assert.\n",
    "    def test_sell_stock_with_numeric_keys(self):\n",
    "        with pytest.raises(ValueError):\n",
    "          assert \"Mobile model name must be a string\" == MobileInventory.sell_stock(self, {1: 'iPhone Model A', 2: 'Xiaomi Model B', 3: 'Nokia Model C'})\n",
    "\n",
    "    # Define a pytest test method **'test_sell_stock_with_nonnumeric_values'**, which tries selling the requested stock {'iPhone Model A':'2', 'Xiaomi Model B':'3', 'Nokia Model C':'4'} from the existing inventory, and which checks if the method raises a ValueError with the message \"No. of mobiles must be a positive integer\" using assert.\n",
    "    def test_sell_stock_with_nonnumeric_values(self):\n",
    "        with pytest.raises(ValueError):\n",
    "          assert \"No. of mobiles must be a positive integer\" == MobileInventory.sell_stock(self, {'iPhone Model A': '2', 'Xiaomi Model B':'3', 'Nokia Model C': '4'})\n",
    "\n",
    "    # Define a pytest test method **'test_sell_stock_with_float_values'**, which tries selling the requested stock {'iPhone Model A':2.5, 'Xiaomi Model B':3.1, 'Nokia Model C':4} from the existing inventory, and which checks if the method raises a ValueError with the message \"No. of mobiles must be a positive integer\" using assert.\n",
    "    def test_sell_stock_with_float_values(self):\n",
    "        with pytest.raises(ValueError):\n",
    "          assert \"No. of mobiles must be a positive integer\" == MobileInventory.sell_stock(self, {'iPhone Model A': 2.5, 'Xiaomi Model B': 3.1, 'Nokia Model C': 4})\n",
    "\n",
    "    # Define a pytest test method **'test_sell_stock_of_nonexisting_model'**, which tries selling the requested stock {'iPhone Model B':2, 'Xiaomi Model B':5} from the existing inventory, and which checks if the method raises an InsufficientException with the message \"No Stock. New Model Request\" using assert.\n",
    "    def test_sell_stock_of_nonexisting_model(self):\n",
    "        with pytest.raises(InsufficientException):\n",
    "          assert \"No Stock. New Model Request\" == MobileInventory.sell_stock(self.inventory, {'iPhone Model B': 2, 'Xiaomi Model B': 5})\n",
    "\n",
    "    # Define a pytest test method **'test_sell_stock_of_insufficient_stock'**, which tries selling the requested stock {'iPhone Model A':2, 'Xiaomi Model B':5, 'Nokia Model C': 15} from the existing inventory, and which checks if the method raises an InsufficientException with the message \"Insufficient Stock\" using assert.\n",
    "    def test_sell_stock_of_insufficient_stock(self):\n",
    "        with pytest.raises(InsufficientException):\n",
    "          assert \"Insufficient Stock\" == MobileInventory.sell_stock(self.inventory, {'iPhone Model A': 2, 'Xiaomi Model B': 5, 'Nokia Model C': 15}) "
   ]
  }
 ],
 "metadata": {
  "kernelspec": {
   "display_name": "Python 3 (ipykernel)",
   "language": "python",
   "name": "python3"
  },
  "language_info": {
   "codemirror_mode": {
    "name": "ipython",
    "version": 3
   },
   "file_extension": ".py",
   "mimetype": "text/x-python",
   "name": "python",
   "nbconvert_exporter": "python",
   "pygments_lexer": "ipython3",
   "version": "3.9.12"
  }
 },
 "nbformat": 4,
 "nbformat_minor": 5
}
