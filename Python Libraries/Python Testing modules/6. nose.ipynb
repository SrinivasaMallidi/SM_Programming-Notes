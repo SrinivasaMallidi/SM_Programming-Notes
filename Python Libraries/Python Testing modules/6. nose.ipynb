{
 "cells": [
  {
   "cell_type": "markdown",
   "id": "b00ef13c",
   "metadata": {},
   "source": [
    "# Introduction to nose\n",
    "* nose is another unit testing module in Python.\n",
    "\n",
    "* nose makes testing easier by extending unittest framework.\n",
    "\n",
    "* nose can be used to run automated tests and also the tests written in other frameworks like unittest.\n",
    "\n",
    "* nose is available as a third party library and can be installed using pip command as shown below."
   ]
  },
  {
   "cell_type": "raw",
   "id": "a1e9a932",
   "metadata": {},
   "source": [
    "pip install nose"
   ]
  },
  {
   "cell_type": "markdown",
   "id": "d2a2af0e",
   "metadata": {},
   "source": [
    "Successful installation of nose can be verified by running the below command."
   ]
  },
  {
   "cell_type": "raw",
   "id": "00701838",
   "metadata": {},
   "source": [
    "nosetests -V"
   ]
  },
  {
   "cell_type": "markdown",
   "id": "f50ce19f",
   "metadata": {},
   "source": [
    "# Writing your first nose test\n",
    "Consider the function test_sample_nosetest defined in sample_nose_test.py. This function is a sample nose test."
   ]
  },
  {
   "cell_type": "raw",
   "id": "0930ac3e",
   "metadata": {},
   "source": [
    "def test_sample_nosetest():\n",
    "    assert 'HELLO' == 'hello'.upper()"
   ]
  },
  {
   "cell_type": "markdown",
   "id": "83f6737f",
   "metadata": {},
   "source": [
    "* From above example, you can observe that, nose allows writing a test case outside a test class.\n",
    "\n",
    "* Even writing any test class does not need to derived from a parent class in nose.\n",
    "\n",
    "* nose uses python's assert method for checking the truthiness of an expression."
   ]
  },
  {
   "cell_type": "markdown",
   "id": "82409bf8",
   "metadata": {},
   "source": [
    "# Running a nose test\n",
    "Tests in sample_nose_test.py can be run using the below command"
   ]
  },
  {
   "cell_type": "raw",
   "id": "f9e215a9",
   "metadata": {},
   "source": [
    "python -m nose sample_nose_test.py"
   ]
  },
  {
   "cell_type": "raw",
   "id": "46093518",
   "metadata": {},
   "source": [
    ".\n",
    "----------------------\n",
    "Ran 1 test in 0.000s\n",
    "\n",
    "OK"
   ]
  },
  {
   "cell_type": "markdown",
   "id": "20f67ab3",
   "metadata": {},
   "source": [
    "For verbose output use -v option at the end."
   ]
  },
  {
   "cell_type": "raw",
   "id": "fc15d722",
   "metadata": {},
   "source": [
    "python -m nose sample_nose_test.py -v"
   ]
  },
  {
   "cell_type": "markdown",
   "id": "ab5bcb39",
   "metadata": {},
   "source": [
    "Output:"
   ]
  },
  {
   "cell_type": "raw",
   "id": "a909935e",
   "metadata": {},
   "source": [
    "sample_nose_test.test_sample_nosetest ... ok\n",
    "\n",
    "-------------------------\n",
    "Ran 1 test in 0.001s\n",
    "\n",
    "OK"
   ]
  },
  {
   "cell_type": "markdown",
   "id": "36515530",
   "metadata": {},
   "source": [
    "You can also run the test module using nosetests command as shown below."
   ]
  },
  {
   "cell_type": "raw",
   "id": "047fd781",
   "metadata": {},
   "source": [
    "nosetests  sample_nose_test.py -v"
   ]
  },
  {
   "cell_type": "markdown",
   "id": "0520daca",
   "metadata": {},
   "source": [
    "The above command produces same output as verbose on"
   ]
  },
  {
   "cell_type": "markdown",
   "id": "2e67b55a",
   "metadata": {},
   "source": [
    "# Creating a Test Project\n",
    "* For creating a test module, let's create a new project named Project2 similar to Project1.\n",
    "\n",
    "* Create sub folders proj and test inside Project2.\n",
    "\n",
    "* Create two empty files named __init__.py inside proj and test folders respectively.\n",
    "\n",
    "* Create a copy of Project1/proj/sample_module.py and place it in Project2/proj/sample_module.py.\n",
    "\n",
    "* Add the line all = ['sample_module'] to Project2/proj/__init__.py file.\n",
    "\n",
    "# Creating a Test Module\n",
    "* Create an empty test module named test_module1.py inside test folder.\n",
    "\n",
    "* Add the following code to Project2/test/test_module1.py"
   ]
  },
  {
   "cell_type": "raw",
   "id": "59dcc51a",
   "metadata": {},
   "source": [
    "from proj.sample_module import add2num\n",
    "\n",
    "class Testadd2num:\n",
    "\n",
    "    def test_sum_2pos_num(self):\n",
    "      assert add2num(6, 7)==13\n",
    "\n",
    "    def test_sum_1pos_and_1neg_num(self):\n",
    "      assert add2num(-10, 9)==-1"
   ]
  },
  {
   "cell_type": "markdown",
   "id": "a2ce43cd",
   "metadata": {},
   "source": [
    "Add the line all = ['test_module1'] to Project2/test/__init__.py file."
   ]
  },
  {
   "cell_type": "markdown",
   "id": "fe75b94d",
   "metadata": {},
   "source": [
    "# Running a Test Module\n",
    "\n",
    "* Now you can run all the tests in test module test_module1.py with the below command"
   ]
  },
  {
   "cell_type": "raw",
   "id": "1fc39beb",
   "metadata": {},
   "source": [
    "nosetests test.test_module1 -v"
   ]
  },
  {
   "cell_type": "markdown",
   "id": "1515f845",
   "metadata": {},
   "source": [
    "Verbose Output"
   ]
  },
  {
   "cell_type": "raw",
   "id": "5b39647b",
   "metadata": {},
   "source": [
    "test.test_module1.Testadd2num.test_sum_1pos_and_1neg_num ... ok\n",
    "test.test_module1.Testadd2num.test_sum_2pos_num ... ok\n",
    "\n",
    "----------------------------\n",
    "Ran 2 tests in 0.002s\n",
    "\n",
    "OK"
   ]
  },
  {
   "cell_type": "markdown",
   "id": "19a17787",
   "metadata": {},
   "source": [
    "Syntax for running a Test class is slightly different from unittest as shown below. Here you use : instead of .."
   ]
  },
  {
   "cell_type": "raw",
   "id": "9e54849c",
   "metadata": {},
   "source": [
    "nosetests test.test_module1:Testadd2num -v"
   ]
  },
  {
   "cell_type": "markdown",
   "id": "c2d19f4a",
   "metadata": {},
   "source": [
    "And a single test can be run as shown below."
   ]
  },
  {
   "cell_type": "raw",
   "id": "f8353bac",
   "metadata": {},
   "source": [
    "nosetests test.test_module1:Testadd2num.test_sum_2pos_num -v"
   ]
  },
  {
   "cell_type": "markdown",
   "id": "9323d8f6",
   "metadata": {},
   "source": [
    "# Test Discovery with nose\n",
    "* Test Discovery process is simpler with nose than with unittest.\n",
    "\n",
    "* No need of using discover option.\n",
    "\n",
    "* Simply use the command shown below to run all the tests present in Project2 folder."
   ]
  },
  {
   "cell_type": "raw",
   "id": "c914488c",
   "metadata": {},
   "source": [
    "nosetests -v"
   ]
  },
  {
   "cell_type": "markdown",
   "id": "c5eba8b6",
   "metadata": {},
   "source": [
    "output:"
   ]
  },
  {
   "cell_type": "raw",
   "id": "f5cab505",
   "metadata": {},
   "source": [
    "..\n",
    "----------------------------\n",
    "Ran 2 tests in 0.007s\n",
    "\n",
    "OK"
   ]
  },
  {
   "cell_type": "markdown",
   "id": "c234ffe9",
   "metadata": {},
   "source": [
    "# Test Fixtures\n",
    "* nose also uses the same test fixtures, used in unittest at a module, class , and test method level.\n",
    "\n",
    "* setUpModule and tearDownModule are used at Module level.\n",
    "\n",
    "* setUpClass and tearDownClass are used at class level.\n",
    "\n",
    "* setUp and tearDown are used at test method level.\n",
    "\n",
    "\n",
    "# nose testing tools\n",
    "* nose contains few methods and tools useful for test automation, in nose.tools module.\n",
    "\n",
    "* nose has it's own assert method i.e assert_equals in nose.tools.\n",
    "\n",
    "* Usage of assert_equals is shown in below example by modifying definition of test_sample_nosetest in test_sample_module.py."
   ]
  },
  {
   "cell_type": "raw",
   "id": "3f6c94b2",
   "metadata": {},
   "source": [
    "def test_sample_nose1test():\n",
    "    assert_equals('HELLO','hello'.upper())"
   ]
  },
  {
   "cell_type": "markdown",
   "id": "d4b249cb",
   "metadata": {},
   "source": [
    "# Usage of OK_ and EQ_\n",
    "* nose.tools also contain methods ok_ and eq_, which function similar to assert and assert_equals respectively.\n",
    "\n",
    "* You can optionally pass an error message that can be displayed when a test fails.\n",
    "\n",
    "* Usage of ok_ and eq_ is shown in below example by defining two functions in sample_test_module.py"
   ]
  },
  {
   "cell_type": "raw",
   "id": "d3dc08a6",
   "metadata": {},
   "source": [
    "from nose.tools import ok_, eq_\n",
    "def test_using_ok():\n",
    "    ok_(2+3==5)\n",
    "\n",
    "def test_using_eq():\n",
    "    eq_(2+3, 5)"
   ]
  },
  {
   "cell_type": "markdown",
   "id": "0f300374",
   "metadata": {},
   "source": [
    "# Usage of 'raises' decorator\n",
    "* raises decorator is used to decorate those tests, which are expected to raise an Exception.\n",
    "\n",
    "* The test will be successful only if the exception raised is present in list of exceptions passed to raises decorator.\n",
    "\n",
    "* A sample test added to test_sample_module.py is shown below."
   ]
  },
  {
   "cell_type": "raw",
   "id": "43b4a70e",
   "metadata": {},
   "source": [
    "from nose.tools import raises\n",
    "\n",
    "@raises(TypeError)\n",
    "def test_using_raises():\n",
    "    eq_(2+'3', 5)"
   ]
  },
  {
   "cell_type": "markdown",
   "id": "437b200e",
   "metadata": {},
   "source": [
    "# Report Generation\n",
    "* nose supports generation of test reports in text and xml formats.\n",
    "\n",
    "* By default the report appears in text format.\n",
    "\n",
    "* You can generate a XML report by using --with-xunit option as shown below."
   ]
  },
  {
   "cell_type": "raw",
   "id": "a6fb3c14",
   "metadata": {},
   "source": [
    "nosetests test.test_module1 -v --with-xunit"
   ]
  },
  {
   "cell_type": "markdown",
   "id": "03969f2a",
   "metadata": {},
   "source": [
    "* The above command generates nosetests.xml report in Project2 folder.\n",
    "\n",
    "* You can generate html report by installing a plug in nose-htmloutput using pip and later running nosetests command using option --with-html.\n",
    "\n",
    "* The above command generates nosetests.html report in Project2 folder."
   ]
  },
  {
   "cell_type": "markdown",
   "id": "ec20c7e5",
   "metadata": {},
   "source": [
    "# Pros and Cons\n",
    "\n",
    "Pros\n",
    "* Unlike unittest, you don't need to extend test cases from a parent class. You can also write test functions.\n",
    "\n",
    "* nose has more fixtures than unittest. It allows fixtures at package and function levels.\n",
    "\n",
    "* nose.tools has many features for automating test cases.\n",
    "\n",
    "* noe can recognize and run unittests tests.\n",
    "\n",
    "Cons\n",
    "* nose is not under active development from several years."
   ]
  },
  {
   "cell_type": "markdown",
   "id": "ba486fa6",
   "metadata": {},
   "source": [
    "1."
   ]
  },
  {
   "cell_type": "raw",
   "id": "dbbe4f6e",
   "metadata": {},
   "source": [
    "from proj.circle import Circle\n",
    "from nose.tools import assert_raises, eq_, eq_\n",
    "class TestingCircleCreation:\n",
    "    # Define a nose test method 'test_creating_circle_with_numeric_radius', which creates a circle with radius 2.5, and check if its radius value is 2.5 using eq_ method.\n",
    "    def test_creating_circle_with_numeric_radius(self):\n",
    "      c = Circle(2.5)\n",
    "      eq_(2.5, c.radius)\n",
    "\n",
    "    # Define a nose test method 'test_creating_circle_with_negative_radius', which checks if the ValueError exception is raised with the error message \"radius must be between 0 and 1000 inclusive\" using eq_ method, while creating a circle of radius -2.5.\n",
    "    # Hint: Use assert_raises and with.\n",
    "    def test_creating_circle_with_negative_radius(self):\n",
    "      with assert_raises(ValueError) as e:\n",
    "        c = Circle(-2.5)\n",
    "      eq_(str(e.exception), 'radius must be between 0 and 1000 inclusive')\n",
    "\n",
    "    # Define a nose test method 'test_creating_circle_with_greaterthan_radius', which checks if the ValueError exception is raised with the error message \"radius must be between 0 and 1000 inclusive\" using eq_ method, while creating circle of radius 1000.1 .\n",
    "    # Hint: Use assert_raises and with\n",
    "    def test_creating_circle_with_greaterthan_radius(self):\n",
    "      with assert_raises(ValueError) as e:\n",
    "        c = Circle(1000.1)\n",
    "      eq_(str(e.exception), 'radius must be between 0 and 1000 inclusive')\n",
    "\n",
    "    # Define a nose test method 'test_creating_circle_with_nonnumeric_radius', which checks if the TypeError exception is raised with the error message \"radius must be a number\" using eq_ method, while creating circle of radius 'hello' .\n",
    "    # Hint: Use assert_raises and with.\n",
    "    def test_creating_circle_with_nonnumeric_radius(self):\n",
    "        with assert_raises(TypeError) as e:\n",
    "          c = Circle('hello')\n",
    "        eq_(str(e.exception), 'radius must be a number')\n",
    "\n",
    "\n",
    "#Define a nose test class 'TestCircleArea'\n",
    "class TestCircleArea:\n",
    "    # Define a nose test method 'test_circlearea_with_random_numeric_radius', which creates a circle 'c1' with radius 2.5, and check if its computed area is 19.63 using eq_ method.\n",
    "    def test_circlearea_with_random_numeric_radius(self):\n",
    "        c = Circle(2.5)\n",
    "        eq_(c.area(), 19.63)\n",
    "\n",
    "    # Define a nose test method 'test_circlearea_with_min_radius', which creates a circle 'c2' with radius 0, and check if its computed area is 0 using eq_ method.\n",
    "    def test_circlearea_with_min_radius(self):\n",
    "        c = Circle(0)\n",
    "        eq_(c.area(), 0)\n",
    "\n",
    "    # Define a nose test method 'test_circlearea_with_max_radius', which creates a circle 'c3' with radius 1000, and check if its computed area is 3141592.65 using eq_ method.\n",
    "    def test_circlearea_with_max_radius(self):\n",
    "        c3 =Circle(1000)\n",
    "        eq_(c3.area(), 3141592.65)\n",
    "\n",
    "# Define a nose test class 'TestCircleCircumference'\n",
    "class TestCircleCircumference:\n",
    "    # Define a nose test method 'test_circlecircum_with_random_numeric_radius', which creates a circle 'c1' with radius 2.5, and check if its computed circumference is 15.71 using eq_ method.\n",
    "    def test_circlecircum_with_random_numeric_radius(self):\n",
    "        c = Circle(2.5)\n",
    "        eq_(c.circumference(), 15.71)\n",
    "\n",
    "    # Define a nose test method 'test_circlecircum_with_min_radius', which creates a circle 'c2' with radius 0, and check if its computed circumference is 0 using eq_ method.\n",
    "    def test_circlecircum_with_min_radius(self):\n",
    "        c = Circle(0)\n",
    "        eq_(0, c.circumference())\n",
    "    # Define a nose test method 'test_circlecircum_with_max_radius', which creates a circle 'c3' with radius 1000, and check if its computed circumference is 6283.19 using eq_ method.\n",
    "    def test_circlecircum_with_max_radius(self):\n",
    "        c = Circle(1000)\n",
    "        eq_(c.circumference(), 6283.19)"
   ]
  },
  {
   "cell_type": "code",
   "execution_count": null,
   "id": "2e976cbc",
   "metadata": {},
   "outputs": [],
   "source": [
    "from proj.circle import Circle\n",
    "from nose.tools import assert_raises, eq_, eq_\n",
    "class TestingCircleCreation:\n",
    "    # Define a nose test method 'test_creating_circle_with_numeric_radius', which creates a circle with radius 2.5, and check if its radius value is 2.5 using eq_ method.\n",
    "    def test_creating_circle_with_numeric_radius(self):\n",
    "      c = Circle(2.5)\n",
    "      eq_(2.5, c.radius)\n",
    "\n",
    "    # Define a nose test method 'test_creating_circle_with_negative_radius', which checks if the ValueError exception is raised with the error message \"radius must be between 0 and 1000 inclusive\" using eq_ method, while creating a circle of radius -2.5.\n",
    "    # Hint: Use assert_raises and with.\n",
    "    def test_creating_circle_with_negative_radius(self):\n",
    "      with assert_raises(ValueError) as e:\n",
    "        c = Circle(-2.5)\n",
    "      eq_(str(e.exception), 'radius must be between 0 and 1000 inclusive')\n",
    "\n",
    "    # Define a nose test method 'test_creating_circle_with_greaterthan_radius', which checks if the ValueError exception is raised with the error message \"radius must be between 0 and 1000 inclusive\" using eq_ method, while creating circle of radius 1000.1 .\n",
    "    # Hint: Use assert_raises and with\n",
    "    def test_creating_circle_with_greaterthan_radius(self):\n",
    "      with assert_raises(ValueError) as e:\n",
    "        c = Circle(1000.1)\n",
    "      eq_(str(e.exception), 'radius must be between 0 and 1000 inclusive')\n",
    "\n",
    "    # Define a nose test method 'test_creating_circle_with_nonnumeric_radius', which checks if the TypeError exception is raised with the error message \"radius must be a number\" using eq_ method, while creating circle of radius 'hello' .\n",
    "    # Hint: Use assert_raises and with.\n",
    "    def test_creating_circle_with_nonnumeric_radius(self):\n",
    "        with assert_raises(TypeError) as e:\n",
    "          c = Circle('hello')\n",
    "        eq_(str(e.exception), 'radius must be a number')\n",
    "\n",
    "\n",
    "#Define a nose test class 'TestCircleArea'\n",
    "class TestCircleArea:\n",
    "    # Define a nose test method 'test_circlearea_with_random_numeric_radius', which creates a circle 'c1' with radius 2.5, and check if its computed area is 19.63 using eq_ method.\n",
    "    def test_circlearea_with_random_numeric_radius(self):\n",
    "        c = Circle(2.5)\n",
    "        eq_(c.area(), 19.63)\n",
    "\n",
    "    # Define a nose test method 'test_circlearea_with_min_radius', which creates a circle 'c2' with radius 0, and check if its computed area is 0 using eq_ method.\n",
    "    def test_circlearea_with_min_radius(self):\n",
    "        c = Circle(0)\n",
    "        eq_(c.area(), 0)\n",
    "\n",
    "    # Define a nose test method 'test_circlearea_with_max_radius', which creates a circle 'c3' with radius 1000, and check if its computed area is 3141592.65 using eq_ method.\n",
    "    def test_circlearea_with_max_radius(self):\n",
    "        c3 =Circle(1000)\n",
    "        eq_(c3.area(), 3141592.65)\n",
    "\n",
    "# Define a nose test class 'TestCircleCircumference'\n",
    "class TestCircleCircumference:\n",
    "    # Define a nose test method 'test_circlecircum_with_random_numeric_radius', which creates a circle 'c1' with radius 2.5, and check if its computed circumference is 15.71 using eq_ method.\n",
    "    def test_circlecircum_with_random_numeric_radius(self):\n",
    "        c = Circle(2.5)\n",
    "        eq_(c.circumference(), 15.71)\n",
    "\n",
    "    # Define a nose test method 'test_circlecircum_with_min_radius', which creates a circle 'c2' with radius 0, and check if its computed circumference is 0 using eq_ method.\n",
    "    def test_circlecircum_with_min_radius(self):\n",
    "        c = Circle(0)\n",
    "        eq_(0, c.circumference())\n",
    "    # Define a nose test method 'test_circlecircum_with_max_radius', which creates a circle 'c3' with radius 1000, and check if its computed circumference is 6283.19 using eq_ method.\n",
    "    def test_circlecircum_with_max_radius(self):\n",
    "        c = Circle(1000)\n",
    "        eq_(c.circumference(), 6283.19)"
   ]
  }
 ],
 "metadata": {
  "kernelspec": {
   "display_name": "Python 3 (ipykernel)",
   "language": "python",
   "name": "python3"
  },
  "language_info": {
   "codemirror_mode": {
    "name": "ipython",
    "version": 3
   },
   "file_extension": ".py",
   "mimetype": "text/x-python",
   "name": "python",
   "nbconvert_exporter": "python",
   "pygments_lexer": "ipython3",
   "version": "3.9.12"
  }
 },
 "nbformat": 4,
 "nbformat_minor": 5
}
