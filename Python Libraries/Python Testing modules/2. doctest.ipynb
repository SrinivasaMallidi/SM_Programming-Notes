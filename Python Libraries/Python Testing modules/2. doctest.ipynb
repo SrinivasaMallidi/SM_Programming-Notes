{
 "cells": [
  {
   "cell_type": "markdown",
   "id": "dae269d1",
   "metadata": {},
   "source": [
    "*  doctest is a python testing module, which allows writing tests based on expected output from standard python interpreter along with documentation.\n",
    "\n",
    "*  doctest is also known as \"document testing\" or \"testable document\".\n",
    "\n",
    "*  doctest allows combination of tests and documentation. This feature enables to keep documentation up to date with reality and ensures that tests express the expected behaviour."
   ]
  },
  {
   "cell_type": "markdown",
   "id": "f0ea683a",
   "metadata": {},
   "source": [
    "# A doctest specifications"
   ]
  },
  {
   "cell_type": "markdown",
   "id": "800320e8",
   "metadata": {},
   "source": [
    "* A doctest contains documentation and one or more valid python statements.\n",
    "\n",
    "* The statements are written after the python shell's primary prompt(>>>).\n",
    "\n",
    "* Secondary prompt (...) is used from second line on wards, when a statement is written across multiple lines.\n",
    "* Expected output is written below the python statements and it should be same as the result obtained, when you run the statement in a python shell."
   ]
  },
  {
   "cell_type": "markdown",
   "id": "3493b645",
   "metadata": {},
   "source": [
    "# Writing Tests as Text Documentation"
   ]
  },
  {
   "cell_type": "markdown",
   "id": "a7deb307",
   "metadata": {},
   "source": [
    "* Tests are written in the form of documentation in a text file.\n",
    "\n",
    "* Let's consider the following text in a file named sample_tests.txt. The file contains text documentation and two tests written for testing python's plus operator."
   ]
  },
  {
   "cell_type": "raw",
   "id": "f2b3ebc4",
   "metadata": {},
   "source": [
    "===============================\n",
    "Demonstrating usage of doctest\n",
    "===============================\n",
    "\n",
    "1. This doctest checks functionality of  python's plus operator.\n",
    "\n",
    ">>> 2 + 4\n",
    "6\n",
    ">>> -10.5 + 8\n",
    "-2.5"
   ]
  },
  {
   "cell_type": "markdown",
   "id": "6dce7c6c",
   "metadata": {},
   "source": [
    "* Presence of a blank line or a new line starting with primary prompt after the expected output is seen as end of the existing test."
   ]
  },
  {
   "cell_type": "markdown",
   "id": "25fe2235",
   "metadata": {},
   "source": [
    "# Running Tests\n",
    "\n",
    "* Run the tests written in sample_tests.txt using the below command."
   ]
  },
  {
   "cell_type": "raw",
   "id": "2b27c4d6",
   "metadata": {},
   "source": [
    "python3 ‑m doctest sample_tests.txt"
   ]
  },
  {
   "cell_type": "markdown",
   "id": "b61dd116",
   "metadata": {},
   "source": [
    "* By default, no output is seen when all tests pass. To view a verbose output, use -v option as shown in below command."
   ]
  },
  {
   "cell_type": "raw",
   "id": "4c8520c8",
   "metadata": {},
   "source": [
    "python3 ‑m doctest -v sample_tests.txt"
   ]
  },
  {
   "cell_type": "raw",
   "id": "84fc7f1f",
   "metadata": {},
   "source": [
    "Trying:\n",
    "    2 + 4\n",
    "Expecting:\n",
    "    6\n",
    "ok\n",
    "Trying:\n",
    "    -10.5 + 8\n",
    "Expecting:\n",
    "    -2.5\n",
    "ok\n",
    "1 items passed all tests:\n",
    "   2 tests in sample_tests.txt\n",
    "2 tests in 1 items.\n",
    "2 passed and 0 failed.\n",
    "Test passed."
   ]
  },
  {
   "cell_type": "markdown",
   "id": "8621ac25",
   "metadata": {},
   "source": [
    "* The verbose output shows that two tests have passed."
   ]
  },
  {
   "cell_type": "markdown",
   "id": "2ede2f83",
   "metadata": {},
   "source": [
    "# Using Secondary Prompt\n",
    "\n",
    "* Let's extend the sample_tests.txt now, by appending function definition of add2num function and two tests as shown below."
   ]
  },
  {
   "cell_type": "raw",
   "id": "411b785f",
   "metadata": {},
   "source": [
    "2. The below doctest checks functionality of add2num function\n",
    "\n",
    ">>> def add2num(x, y):\n",
    "...       \"This function returns sum of two numbers.\"\n",
    "...       return x + y\n",
    ">>> add2num(6, 7)\n",
    "13\n",
    ">>> add2num(-8.5, 7)\n",
    "-1.5"
   ]
  },
  {
   "cell_type": "markdown",
   "id": "d786b1a8",
   "metadata": {},
   "source": [
    "* The example shows how a function definition spanning multiple lines is defined using main prompt (>>>) and secondary prompt(...), in a text document."
   ]
  },
  {
   "cell_type": "markdown",
   "id": "8f3933d7",
   "metadata": {},
   "source": [
    "# Writing Tests in docstrings\n",
    "\n",
    "* docstring is used for documenting python modules, functions, classes and methods.\n",
    "\n",
    "* Now let's see an other example in which tests of function add2num are written as a part of docstring, in a script named sample_module.py."
   ]
  },
  {
   "cell_type": "raw",
   "id": "de2f0537",
   "metadata": {},
   "source": [
    "def add2num(x, y):\n",
    "    \"\"\"Adds two given numbers and returns the sum.\n",
    "    >>> add2num(6, 7)\n",
    "    13\n",
    "    >>> add2num(-8.5, 7)\n",
    "    -1.5\n",
    "    \"\"\"\n",
    "    return x + y"
   ]
  },
  {
   "cell_type": "markdown",
   "id": "781c9a5e",
   "metadata": {},
   "source": [
    "* The docstring contains two tests corresponding to add2num function."
   ]
  },
  {
   "cell_type": "markdown",
   "id": "efc18298",
   "metadata": {},
   "source": [
    "# Running Tests in docstrings\n",
    "\n",
    "* You can now run the tests with the below command"
   ]
  },
  {
   "cell_type": "raw",
   "id": "328637fc",
   "metadata": {},
   "source": [
    "python3 ‑m doctest sample_module.py"
   ]
  },
  {
   "cell_type": "markdown",
   "id": "5099e60a",
   "metadata": {},
   "source": [
    "* Since all tests pass, you see an empty output.\n",
    "* Let's alter the expected output of add2num(-8.5, 7) as -2.5 and run the tests again, the following output is seen."
   ]
  },
  {
   "cell_type": "raw",
   "id": "361e040e",
   "metadata": {},
   "source": [
    "**********************************************************************\n",
    "File \"D:\\python 3.5\\sample_module.py\", line 5, in sample_module.add2num\n",
    "Failed example:\n",
    "    add2num(-8.5, 7)\n",
    "Expected:\n",
    "    -2.5\n",
    "Got:\n",
    "    -1.5\n",
    "**********************************************************************\n",
    "1 items had failures:\n",
    "   1 of   2 in sample_module.add2num\n",
    "***Test Failed*** 1 failures."
   ]
  },
  {
   "cell_type": "markdown",
   "id": "e7a6e266",
   "metadata": {},
   "source": [
    "* One test add2num(-8.5, 7) fails."
   ]
  },
  {
   "cell_type": "markdown",
   "id": "992623cd",
   "metadata": {},
   "source": [
    "# Expecting Exceptions\n",
    "\n",
    "* In some cases you would like to raise an exception, for example when an invalid input is provided.\n",
    "\n",
    "* doctest can detect raised exceptions by detecting the python exception report and traceback displayed in a python interactive shell when the exception is raised.\n",
    "\n",
    "* doctest is concerned only with the first line Traceback (most recent call last): and the last line, which tells it which exception you expect.\n",
    "\n",
    "* doctest reports a failure only if one of these two parts doesn't match"
   ]
  },
  {
   "cell_type": "markdown",
   "id": "b70dab1a",
   "metadata": {},
   "source": [
    "Now add the below text, at the end of existing two tests of add2num function, in sample_tests.txt file"
   ]
  },
  {
   "cell_type": "raw",
   "id": "6586cd1e",
   "metadata": {},
   "source": [
    ">>> add2num(8, 'hello')\n",
    "Traceback (most recent call last):\n",
    "TypeError: unsupported operand type(s) for +: 'int' and 'str'"
   ]
  },
  {
   "cell_type": "markdown",
   "id": "a6f0e0d8",
   "metadata": {},
   "source": [
    "Run the tests using the below command. All tests are passed."
   ]
  },
  {
   "cell_type": "raw",
   "id": "e2c7a57f",
   "metadata": {},
   "source": [
    "python3 ‑m doctest sample_tests.txt"
   ]
  },
  {
   "cell_type": "markdown",
   "id": "16ebdcb0",
   "metadata": {},
   "source": [
    "If you replace TypeError with ValueError word, and run the above command again it results in one failure case."
   ]
  },
  {
   "cell_type": "markdown",
   "id": "c3f3f7c2",
   "metadata": {},
   "source": [
    "# Expecting Blanklines\n",
    "\n",
    "* The doctest considers the first blank line after the primary prompt (>>>) as the end of expected output.\n",
    "\n",
    "* However sometimes, you may expect blank lines in the output it self. This would mislead doctest and fail the tests.\n",
    "\n",
    "* This issue can be overcome by inserting <BLANKLINE> word instead of an expected blank line.\n",
    "\n",
    "* The example in next slide inserts two <BLANKLINE> words in place of two expected blank lines."
   ]
  },
  {
   "cell_type": "markdown",
   "id": "c6ae7039",
   "metadata": {},
   "source": [
    "Add the below documentation at the end of sample_tests.txt and run the doct tests."
   ]
  },
  {
   "cell_type": "raw",
   "id": "65fa6a4e",
   "metadata": {},
   "source": [
    "3. This doctest checks functionality of insertlines function\n",
    ">>> def insertlines(n):\n",
    "...    print('Start')\n",
    "...    for i in range(n):\n",
    "...        print()\n",
    "...    print('End')\n",
    ">>> insertlines(2)\n",
    "Start\n",
    "<BLANKLINE>\n",
    "<BLANKLINE>\n",
    "End"
   ]
  },
  {
   "cell_type": "markdown",
   "id": "b2d8876d",
   "metadata": {},
   "source": [
    "The test insertlines(2) function will successfully pass."
   ]
  },
  {
   "cell_type": "markdown",
   "id": "b7c660d3",
   "metadata": {},
   "source": [
    "# Pros and Cons\n",
    "\n",
    "Pros\n",
    "* doctest is very simple to use and doesn't require any installation.\n",
    "\n",
    "* It ensures code documentation, containing interactive examples are up to date.\n",
    "\n",
    "Cons\n",
    "* doctest doesn't have a proper API for testing.\n",
    "* doctests are static in nature and hence cannot be parameterized.\n",
    "* doctest doesn't support features like test discovery, test fixtures and test runner. Hence it cannot be used for testing a large project."
   ]
  },
  {
   "cell_type": "markdown",
   "id": "f9fe9100",
   "metadata": {},
   "source": [
    "# Unit Testing using Doctest \n",
    "\n",
    "A palindrome is number or otehr sequence of characters which is the same when read backward or forward. \n",
    "\n",
    "Define the function 'isPalindrome' and write doctests which the functionality of 'isPalindrome' as specified in the following;;\n",
    "\n",
    "Task to be performed\n",
    "\n",
    "* Complete the function definition of 'isPalindrome' which checks if a given positive integer is a palindrome or not, and return True and Flase correspondingly.\n",
    "* Write a doctest which checks if the function call 'isPalindrome(121)' returns True.\n",
    "* Write a doctest which checks if the function call 'isPalindrome(344)' returns False.\n",
    "* Write a doctest which checks if the funcation call 'isPalindrome(-121)' raises a 'ValueError' with an error message:\"X must be a posite integer\".\n",
    "* Write a doctest which checks if the fucntion call 'isPalindrome(\"hello\") raise a 'TypeError' with an arror message: \"x must be an integer\".\n",
    "\n"
   ]
  },
  {
   "cell_type": "raw",
   "id": "fd405fad",
   "metadata": {},
   "source": [
    "#!/bin/python3\n",
    "\n",
    "import math\n",
    "import os\n",
    "import random\n",
    "import re\n",
    "import sys\n",
    "import inspect\n",
    "\n",
    "\n",
    "# Complete the following isPalindrome function:\n",
    "def isPalindrome(x):\n",
    "    \n",
    "    # Write your doctests below.\n",
    "    \"\"\"\n",
    "    >>> isPalindrome(121)\n",
    "    True\n",
    "    >>> isPalindrome(344)\n",
    "    False\n",
    "    >>> isPalindrome(-121)\n",
    "    Traceback (most recent call last):\n",
    "    ...\n",
    "    ValueError: x must be a positive integer\n",
    "    >>> isPalindrome(\"Hello\")\n",
    "    Traceback (most recent call last):\n",
    "    ...\n",
    "    ValueError: x must be an integer\n",
    "    \"\"\"\n",
    "    temp=x\n",
    "    rev=0\n",
    "    while(x>0):\n",
    "        dig=x%10\n",
    "        rev=rev*10+dig\n",
    "        x=x//10\n",
    "    if(temp==rev):\n",
    "        return True\n",
    "    else:\n",
    "        return False\n",
    "    \n",
    "if __name__ == '__main__':\n",
    "    fptr = open(os.environ['OUTPUT_PATH'], 'w')\n",
    "\n",
    "    x = input()\n",
    "    \n",
    "    if x.isdigit():\n",
    "        x = int(x)\n",
    "\n",
    "    res = isPalindrome(x)\n",
    "    \n",
    "    doc = inspect.getdoc(isPalindrome)\n",
    "    \n",
    "    func_count = len(re.findall(r'isPalindrome', doc))\n",
    "    true_count = len(re.findall(r'True', doc))\n",
    "    false_count = len(re.findall(r'False', doc))\n",
    "    pp_count = len(re.findall(r'>>>', doc))\n",
    "    trace_count = len(re.findall(r'Traceback', doc))\n",
    "\n",
    "    fptr.write(str(res)+'\\n')\n",
    "    fptr.write(str(func_count)+'\\n')\n",
    "    fptr.write(str(true_count)+'\\n')\n",
    "    fptr.write(str(false_count)+'\\n')\n",
    "    fptr.write(str(pp_count) + '\\n')\n",
    "    fptr.write(str(trace_count) + '\\n')\n",
    "\n",
    "    fptr.close()\n"
   ]
  },
  {
   "cell_type": "markdown",
   "id": "172df4a4",
   "metadata": {},
   "source": [
    "Complete the definition of the class 'Circle' with the following specifications:\n",
    "\n",
    "* Define doctests for '__init__' which creates a circle 'c1' with radius 2.5 and checks, if the accessing attribute 'radius' returns the value 2.55.\n",
    "* Define call method 'area' of a circle, and returns the value rounded off to 2 decimals.\n",
    "Hint: Use 'pi' value form 'math' module.\n",
    "* Define doctests for 'area' which circle 'c1' with radius 2.5 and checks if its computed area is 19.63.\n",
    "* Define class method 'circumference' which computes the circumference of a circle and returns the value rounded off to 2 decimials.\n",
    "Hint: Use 'pi' value form 'math' module.\n",
    "* Define doctests for 'circumference' which creates a circle 'c1' with radius 2.5 and checks if it's computed circumference is 15.71\n"
   ]
  },
  {
   "cell_type": "raw",
   "id": "1962e0a2",
   "metadata": {},
   "source": [
    "import inspect\n",
    "import doctest\n",
    "import re\n",
    "import math\n",
    "\n",
    "# Define the class 'Circle' and its methods with proper doctests:\n",
    "class Circle:\n",
    "    \n",
    "    def __init__(self, radius):\n",
    "        # Define the doctests for __init__ method below\n",
    "        \"\"\"\n",
    "        >>> c1 = Circle(2.5)\n",
    "        >>> c1.radius\n",
    "        2.5\n",
    "        \"\"\"\n",
    "        self.radius = radius\n",
    "        \n",
    "    def area(self):\n",
    "        # Define the doctests for area method below\n",
    "        \"\"\"\n",
    "        >>> c1 = Circle(2.5)\n",
    "        >>> c1.area() \n",
    "        19.63\n",
    "        \"\"\"\n",
    "        # Define the area functionality below\n",
    "        return round(((self.radius ** 2) * math.pi),2)\n",
    "        \n",
    "        \n",
    "    def circumference(self):\n",
    "        # Define the doctests for circumference method below\n",
    "        \"\"\"\n",
    "        >>> c1 = Circle(2.5)\n",
    "        >>> c1.circumference()\n",
    "        15.71\n",
    "        \"\"\"\n",
    "        # Define the circumference functionality below\n",
    "        return round((self.radius * 2 * math.pi),2)\n",
    "        \n",
    "if __name__ == '__main__':\n",
    "    doctest.testmod()\n",
    "    \n",
    "    c2 = Circle(2.5)\n",
    "    doc1 = inspect.getdoc(c2.__init__)\n",
    "    doc2 = inspect.getdoc(c2.area)\n",
    "    doc3 = inspect.getdoc(c2.circumference)\n",
    "    \n",
    "    class_count = len(re.findall(r'Circle', doc1))\n",
    "    func1_count = len(re.findall(r'c1.radius', doc1))\n",
    "    func1_val = len(re.findall(r'2.5', doc1))\n",
    "    \n",
    "    print(str(class_count), str(func1_count), str(func1_val))\n",
    "    \n",
    "    class_count = len(re.findall(r'Circle', doc2))\n",
    "    func1_count = len(re.findall(r'c1.area', doc2))\n",
    "    func1_val = len(re.findall(r'19.63', doc2)) \n",
    "                      \n",
    "    print(str(class_count), str(func1_count), str(func1_val))\n",
    "                      \n",
    "    class_count = len(re.findall(r'Circle', doc3))\n",
    "    func1_count = len(re.findall(r'c1.circumference', doc3))\n",
    "    func1_val = len(re.findall(r'15.71', doc3)) \n",
    "                      \n",
    "    print(str(class_count), str(func1_count), str(func1_val))"
   ]
  },
  {
   "cell_type": "code",
   "execution_count": null,
   "id": "19c2178c",
   "metadata": {},
   "outputs": [],
   "source": [
    "class Circle:\n",
    "    \n",
    "    def __init__(self, radius):\n",
    "        # Define the doctests for __init__ method below\n",
    "        \"\"\"\n",
    "        >>> c1 = Circle(2.5)\n",
    "        >>> c1.radius\n",
    "        2.5\n",
    "        \"\"\"\n",
    "        self.radius = radius\n",
    "        \n",
    "    def area(self):\n",
    "        # Define the doctests for area method below\n",
    "        \"\"\"\n",
    "        >>> c1 = Circle(2.5)\n",
    "        >>> c1.area() \n",
    "        19.63\n",
    "        \"\"\"\n",
    "        # Define the area functionality below\n",
    "        return round(((self.radius ** 2) * math.pi),2)\n",
    "        \n",
    "        \n",
    "    def circumference(self):\n",
    "        # Define the doctests for circumference method below\n",
    "        \"\"\"\n",
    "        >>> c1 = Circle(2.5)\n",
    "        >>> c1.circumference()\n",
    "        15.71\n",
    "        \"\"\"\n",
    "        # Define the circumference functionality below\n",
    "        return round((self.radius * 2 * math.pi),2)"
   ]
  }
 ],
 "metadata": {
  "kernelspec": {
   "display_name": "Python 3 (ipykernel)",
   "language": "python",
   "name": "python3"
  },
  "language_info": {
   "codemirror_mode": {
    "name": "ipython",
    "version": 3
   },
   "file_extension": ".py",
   "mimetype": "text/x-python",
   "name": "python",
   "nbconvert_exporter": "python",
   "pygments_lexer": "ipython3",
   "version": "3.9.12"
  }
 },
 "nbformat": 4,
 "nbformat_minor": 5
}
