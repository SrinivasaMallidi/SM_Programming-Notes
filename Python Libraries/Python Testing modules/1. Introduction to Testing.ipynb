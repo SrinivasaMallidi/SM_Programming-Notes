{
 "cells": [
  {
   "cell_type": "markdown",
   "id": "174b99ab",
   "metadata": {},
   "source": [
    "*  Software Testing is a process of identifying bugs in an application by running the application through a series of designed tests.\n",
    "\n",
    "*  Software Testing involves multiple stake holders such as testers, management, business, customers, consultants, and end users."
   ]
  },
  {
   "cell_type": "markdown",
   "id": "c6a775b4",
   "metadata": {},
   "source": [
    "Software Testing is very important for the following reasons:\n",
    "\n",
    "*  It can detect errors or defects made during development phase.\n",
    "\n",
    "*  It increases reliability and quality of the software.\n",
    "\n",
    "*  It validates or checks if software is behaving as expected based on requirements.\n",
    "\n",
    "*  It is required for effective performance of software application."
   ]
  },
  {
   "cell_type": "markdown",
   "id": "af5e273b",
   "metadata": {},
   "source": [
    "# Software Testing Life Cycle"
   ]
  },
  {
   "cell_type": "markdown",
   "id": "63dbc816",
   "metadata": {},
   "source": [
    "Software Testing Life Cycle (STLC) refers to various phases involved in testing of a software.\n",
    "\n",
    "STLC in general includes the following phases:\n",
    "\n",
    "* Requirements Review\n",
    "\n",
    "* Test Planning\n",
    "\n",
    "* Test Designing\n",
    "\n",
    "* Test Environment Set Up\n",
    "\n",
    "* Test Execution\n",
    "\n",
    "* Test Reporting"
   ]
  },
  {
   "cell_type": "markdown",
   "id": "6d15d2a9",
   "metadata": {},
   "source": [
    "# Levels of Testing"
   ]
  },
  {
   "cell_type": "markdown",
   "id": "1d00b1f9",
   "metadata": {},
   "source": [
    "Testing is generally classfied into three levels based on the component being tested.\n",
    "\n",
    "The three levels are:\n",
    "\n",
    "* Unit Testing\n",
    "* Integration Testing\n",
    "* System Testing"
   ]
  },
  {
   "cell_type": "markdown",
   "id": "31ea738d",
   "metadata": {},
   "source": [
    "# Unit Testing"
   ]
  },
  {
   "cell_type": "markdown",
   "id": "bb453db3",
   "metadata": {},
   "source": [
    "* Unit Testing : Testing the smallest possible code snippets of a program.\n",
    "\n",
    "* Practically, breaking down of these code snippets into further smaller pieces is not achievable.\n",
    "\n",
    "* For e.g: considering below function as a single unit makes sense."
   ]
  },
  {
   "cell_type": "code",
   "execution_count": 2,
   "id": "1364281b",
   "metadata": {},
   "outputs": [],
   "source": [
    "def add(n1,n2):\n",
    "    \"Returns addition of n1 and n2.\"\n",
    "    return n1+n2"
   ]
  },
  {
   "cell_type": "markdown",
   "id": "120bf620",
   "metadata": {},
   "source": [
    "# Integration Testing"
   ]
  },
  {
   "cell_type": "markdown",
   "id": "7acb2a09",
   "metadata": {},
   "source": [
    "* Integration Testing : It focuses on testing interactions across related units.\n",
    "\n",
    "* These tests are still run in isolation in order to overcome inputs from outside or other units.\n",
    "\n",
    "* The inputs required from outside units are simulated."
   ]
  },
  {
   "cell_type": "markdown",
   "id": "c2e24372",
   "metadata": {},
   "source": [
    "# System Testing"
   ]
  },
  {
   "cell_type": "markdown",
   "id": "b12bde0c",
   "metadata": {},
   "source": [
    "* System Testing : It checks parts of the program once all units are plugged together.\n",
    "\n",
    "* It is an extreme form of Integration Testing.\n",
    "\n",
    "* System tests will not be useful, if these tests are not supported by the results of integration tests and unit tests."
   ]
  },
  {
   "cell_type": "markdown",
   "id": "284ec552",
   "metadata": {},
   "source": [
    "# Acceptance Testing"
   ]
  },
  {
   "cell_type": "markdown",
   "id": "c155f3a2",
   "metadata": {},
   "source": [
    "* Unit Testing, Integration Testing and System Testing are done to verify software product as a whole or it's individual components.\n",
    "\n",
    "* On the other hand, the testing that you perform to confirm that the software behaves as expected is known Acceptance Testing.\n",
    "\n",
    "* Acceptance Testing doesn't check any core functionality of the software, it only aims at checking the software behaviour."
   ]
  },
  {
   "cell_type": "markdown",
   "id": "1cb8cbb5",
   "metadata": {},
   "source": [
    "# Regression Testing\n"
   ]
  },
  {
   "cell_type": "markdown",
   "id": "3028cb5b",
   "metadata": {},
   "source": [
    "* Regression Testing is another type of testing which ensures that previously built software performs the same way after making some changes to it or interfacing it with other software.\n",
    "\n",
    "* Regression Tests can be written before or after a bug is found.\n",
    "\n",
    "* They provide an assurance that an increase in a program's complexity doesn't introduce new bugs."
   ]
  },
  {
   "cell_type": "code",
   "execution_count": null,
   "id": "389b42ca",
   "metadata": {},
   "outputs": [],
   "source": []
  }
 ],
 "metadata": {
  "kernelspec": {
   "display_name": "Python 3 (ipykernel)",
   "language": "python",
   "name": "python3"
  },
  "language_info": {
   "codemirror_mode": {
    "name": "ipython",
    "version": 3
   },
   "file_extension": ".py",
   "mimetype": "text/x-python",
   "name": "python",
   "nbconvert_exporter": "python",
   "pygments_lexer": "ipython3",
   "version": "3.9.12"
  }
 },
 "nbformat": 4,
 "nbformat_minor": 5
}
