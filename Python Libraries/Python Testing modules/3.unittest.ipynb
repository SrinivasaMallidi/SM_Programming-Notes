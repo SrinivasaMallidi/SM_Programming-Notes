{
 "cells": [
  {
   "cell_type": "markdown",
   "id": "d40b5a16",
   "metadata": {},
   "source": [
    "* Unittest is another Python's built-in testing module.\n",
    "\n",
    "* Unittest is Python's xUnit-style unit testing framework.\n",
    "\n",
    "* It's functionality is similar to XUnit-style libraries in other programming languages such as JUnit in Java, CPPUnit in C++, PHPUnit in PHP, etc.\n",
    "\n",
    "* All the xUnit-style testing frameworks are derived from Smalltalk's unit testing framework SUnit.\n",
    "\n",
    "# Architecture of a xUnit-style library\n",
    "\n",
    "* A xUnit-style library contains the following components.\n",
    "\n",
    "* Test case class : It is the base class of all test classes written in test modules.\n",
    "\n",
    "* Test fixtures : These are the methods that run before and after the execution of test code.\n",
    "\n",
    "* Assertions : These are the functions or methods that check the behavior of variables being tested.\n",
    "\n",
    "* Test Suite: It is the collection of related tests that can be executed together.\n",
    "\n",
    "* Test Runner: It is the block of code that runs the test suite.\n",
    "\n",
    "* Test result formatter : It formats the test results output in human readable formats like plaintext, HTML, XML, etc.\n",
    "\n",
    "# Using Unittest\n",
    "\n",
    "* Let's understand implementation of unittest by writing the below shown code in test_module1.py"
   ]
  },
  {
   "cell_type": "raw",
   "id": "ebf12e91",
   "metadata": {},
   "source": [
    "from sample_module import add2num\n",
    "\n",
    "import unittest\n",
    "\n",
    "class Testadd2num(unittest.TestCase):\n",
    "\n",
    "    def test_sum_2pos_num(self):\n",
    "      self.assertEqual(add2num(6, 7), 13)\n",
    "\n",
    "    def test_sum_1pos_and_1neg_num(self):\n",
    "      self.assertEqual(add2num(-10, 9), -1)"
   ]
  },
  {
   "cell_type": "markdown",
   "id": "01d0f2f7",
   "metadata": {},
   "source": [
    "* The class Testadd2num is derived from base class unittest.TestCase.\n",
    "\n",
    "* Methods defined inside Testadd2num check the functionality of add2num defined in sample_module.py file.\n",
    "\n"
   ]
  },
  {
   "cell_type": "markdown",
   "id": "ca8f464a",
   "metadata": {},
   "source": [
    "# Running all Tests\n",
    "\n",
    "All the test cases written in test_module1.py can be run with below command."
   ]
  },
  {
   "cell_type": "raw",
   "id": "4bebfdb5",
   "metadata": {},
   "source": [
    "python -m unittest test_module1"
   ]
  },
  {
   "cell_type": "markdown",
   "id": "c5664503",
   "metadata": {},
   "source": [
    "Usage of .py extension, while specifying the module is not required, as shown above.\n",
    "\n",
    "Output"
   ]
  },
  {
   "cell_type": "raw",
   "id": "16109039",
   "metadata": {},
   "source": [
    "..\n",
    "---------------------------------\n",
    "Ran 2 tests in 0.001s\n",
    "\n",
    "OK"
   ]
  },
  {
   "cell_type": "markdown",
   "id": "b459cace",
   "metadata": {},
   "source": [
    "The output shows passing of two tests successfully. Verbose output can be viewed by adding -v at the end as shown below."
   ]
  },
  {
   "cell_type": "raw",
   "id": "10cbc5e8",
   "metadata": {},
   "source": [
    "python -m unittest test_module1 -v"
   ]
  },
  {
   "cell_type": "markdown",
   "id": "a0ee71e5",
   "metadata": {},
   "source": [
    "# Running Selected Tests\n",
    "\n",
    "It is also possible to select tests at a lower level such as Class level or Test level.\n",
    "\n",
    "You can run only the tests belonging to Testadd2num class with the below command."
   ]
  },
  {
   "cell_type": "raw",
   "id": "37bc2661",
   "metadata": {},
   "source": [
    "python -m unittest test_module1.Testadd2num"
   ]
  },
  {
   "cell_type": "markdown",
   "id": "51abf962",
   "metadata": {},
   "source": [
    "Output"
   ]
  },
  {
   "cell_type": "raw",
   "id": "e035c6b6",
   "metadata": {},
   "source": [
    "..\n",
    "---------------------------------\n",
    "Ran 2 tests in 0.001s\n",
    "\n",
    "OK"
   ]
  },
  {
   "cell_type": "markdown",
   "id": "6fdb41bf",
   "metadata": {},
   "source": [
    "A single test test_sum_2pos_num can also be run as shown below."
   ]
  },
  {
   "cell_type": "raw",
   "id": "eb1419da",
   "metadata": {},
   "source": [
    "python -m unittest test_module1.Testadd2num.test_sum_2pos_num"
   ]
  },
  {
   "cell_type": "markdown",
   "id": "06cfe2a8",
   "metadata": {},
   "source": [
    "output"
   ]
  },
  {
   "cell_type": "raw",
   "id": "78cf27e2",
   "metadata": {},
   "source": [
    ".\n",
    "---------------------------------\n",
    "Ran 1 tests in 0.001s\n",
    "\n",
    "OK"
   ]
  },
  {
   "cell_type": "markdown",
   "id": "6e3f6271",
   "metadata": {},
   "source": [
    "# Running with unittest.main\n",
    "\n",
    "All the test cases written in a file can be run by adding the following lines at the end of the file test_module1.py"
   ]
  },
  {
   "cell_type": "raw",
   "id": "dfaeb705",
   "metadata": {},
   "source": [
    "if __name__ == '__main__':\n",
    "    unittest.main()"
   ]
  },
  {
   "cell_type": "markdown",
   "id": "671808c3",
   "metadata": {},
   "source": [
    "Usage of if __name__ == '__main__' block will ensure that code inside the block will be executed only when the module is run as a program.\n",
    "\n",
    "Hence you can run all tests at once using the below command."
   ]
  },
  {
   "cell_type": "markdown",
   "id": "22c257fb",
   "metadata": {},
   "source": [
    "python test_module1.py"
   ]
  },
  {
   "cell_type": "markdown",
   "id": "fc1bb0e7",
   "metadata": {},
   "source": [
    "output"
   ]
  },
  {
   "cell_type": "raw",
   "id": "dfc8f15a",
   "metadata": {},
   "source": [
    "..\n",
    "---------------------------------\n",
    "Ran 2 tests in 0.001s\n",
    "\n",
    "OK"
   ]
  },
  {
   "cell_type": "markdown",
   "id": "1d143603",
   "metadata": {},
   "source": [
    "The output shows two tests were run successfully. For a verbose output use the below command."
   ]
  },
  {
   "cell_type": "raw",
   "id": "e50c007a",
   "metadata": {},
   "source": [
    "python test_module.py -v"
   ]
  },
  {
   "cell_type": "markdown",
   "id": "a6f3cd41",
   "metadata": {},
   "source": [
    "# Writing Multiple Test Classes\n",
    "Let's add pow2num function in sample_module.py, before writing another test class.\n",
    "\n",
    "\n",
    "Definition of pow2num function"
   ]
  },
  {
   "cell_type": "raw",
   "id": "f0e06e7e",
   "metadata": {},
   "source": [
    "def pow2num(x, y):\n",
    "    \"\"\"Returns x power of y.\n",
    "    >>> pow2num(2, 6)\n",
    "    64\n",
    "    >>> pow2num(10, -3)\n",
    "    0.001\n",
    "    \"\"\"\n",
    "    return x**y"
   ]
  },
  {
   "cell_type": "markdown",
   "id": "6cf11f5c",
   "metadata": {},
   "source": [
    "Now add the below Test class to test_module1.py"
   ]
  },
  {
   "cell_type": "raw",
   "id": "7e99ab5e",
   "metadata": {},
   "source": [
    "class Testpow2num(unittest.TestCase):\n",
    "\n",
    "    def test_pow_2pos_num(self):\n",
    "        self.assertEqual(pow2num(3, 4), 81)\n",
    "\n",
    "    def test_neg_pow(self):\n",
    "        self.assertEqual(pow2num(10, -2), 0.01)\n",
    "\n",
    "    def test_negnum_pow(self):\n",
    "        self.assertEqual(pow2num(-3, 3), -26)"
   ]
  },
  {
   "cell_type": "markdown",
   "id": "48dd9db9",
   "metadata": {},
   "source": [
    "The Test class contained three tests and third test is written such that it fails."
   ]
  },
  {
   "cell_type": "markdown",
   "id": "eb96cf76",
   "metadata": {},
   "source": [
    "# Running Multiple Test Classes\n",
    "\n",
    "You can run all the tests in test_module1.py with the below command"
   ]
  },
  {
   "cell_type": "raw",
   "id": "16c52825",
   "metadata": {},
   "source": [
    "python test_module1.py"
   ]
  },
  {
   "cell_type": "markdown",
   "id": "402f1e94",
   "metadata": {},
   "source": [
    "Output:"
   ]
  },
  {
   "cell_type": "raw",
   "id": "3aa55437",
   "metadata": {},
   "source": [
    "...F.\n",
    "======================================================================\n",
    "FAIL: test_negnum_pow (test_module1.Testpow2num)\n",
    "----------------------------------------------------------------------\n",
    "Traceback (most recent call last):\n",
    "  File \"D:\\python 3.5\\test_module1.py\", line 26, in test_negnum_pow\n",
    "    self.assertEqual(pow2num(-3, 3), -26)\n",
    "AssertionError: -27 != -26\n",
    "\n",
    "----------------------------------------------------------------------\n",
    "Ran 5 tests in 0.001s\n",
    "\n",
    "FAILED (failures=1)"
   ]
  },
  {
   "cell_type": "markdown",
   "id": "626f28ab",
   "metadata": {},
   "source": [
    "One failure is reported out of overall five tests"
   ]
  },
  {
   "cell_type": "markdown",
   "id": "593ff4bc",
   "metadata": {},
   "source": [
    "# Test Fixtures\n",
    "\n",
    "* Test Fixtures are the activities to be performed before and after the tests.\n",
    "\n",
    "* Test fixtures are generally implemented as methods of a test class derived from unittest.TestCase.\n",
    "\n",
    "* The major test fixtures used in unittest are: setUpModule, tearDownModule, setpClass, tearDownClass, setUp, and tearDown\n",
    "* The above mentioned test fixtures are used at required places in a test module.\n",
    "\n",
    "# Using Test Fixtures at a class method level\n",
    "Now let's update Testadd2num test case by adding the following methods as shown below."
   ]
  },
  {
   "cell_type": "raw",
   "id": "3ddff049",
   "metadata": {},
   "source": [
    ".....\n",
    "class Testadd2num(unittest.TestCase):\n",
    "\n",
    "    def setUp(self):\n",
    "        print('Executed before start of every test')\n",
    "\n",
    "    def tearDown(self):\n",
    "        print('Executed at the end of every test')\n",
    "        \n",
    "    def test_sum_2pos_num(self):\n",
    "        .....\n",
    "\n",
    "    .....\n"
   ]
  },
  {
   "cell_type": "markdown",
   "id": "2213bcda",
   "metadata": {},
   "source": [
    "Testadd2num contained two fixture methods, setUp and tearDown. These are test method level fixtures and are run before and after executing every test method as shown in below output."
   ]
  },
  {
   "cell_type": "raw",
   "id": "d5de1429",
   "metadata": {},
   "source": [
    "Executed before start of every test\n",
    "Executed at the end of every test\n",
    ". Executed before start of every test\n",
    "Executed at the end of every test\n",
    "....\n",
    "-------------------------------\n",
    "Ran 5 tests in 0.010s\n",
    "\n",
    "OK"
   ]
  },
  {
   "cell_type": "markdown",
   "id": "f3269111",
   "metadata": {},
   "source": [
    "# Using Test Fixtures at Class level\n",
    "Now let's add two more methods to Testadd2num test class as shown below."
   ]
  },
  {
   "cell_type": "raw",
   "id": "406dfad6",
   "metadata": {},
   "source": [
    ".....\n",
    "\n",
    "class Testadd2num(unittest.TestCase):\n",
    "\n",
    "    @classmethod\n",
    "    def setUpClass(cls):\n",
    "        print('Executed before any test in the class runs.')\n",
    "\n",
    "    @classmethod\n",
    "    def tearDownClass(cls):\n",
    "        print('Executed after all tests in class are run.'\n",
    "\n",
    "    ...."
   ]
  },
  {
   "cell_type": "markdown",
   "id": "01daacd7",
   "metadata": {},
   "source": [
    "setUpClass and tearDownClass are class methods. setUpClass runs once before any method of the class runs and tearDownClass runs after all methods of the class are executed.\n",
    "\n",
    "\n",
    "Output"
   ]
  },
  {
   "cell_type": "raw",
   "id": "e611dad3",
   "metadata": {},
   "source": [
    "Executed before any test in the class runs\n",
    "Executed before start of every test\n",
    "Executed at the end of every test\n",
    ".Executed before start of every test\n",
    "Executed at the end of every test\n",
    ".Executed after all tests in class are run\n",
    "...\n",
    "------------------------\n",
    "Ran 5 tests in 0.010s\n",
    "\n",
    "OK"
   ]
  },
  {
   "cell_type": "markdown",
   "id": "08849ba6",
   "metadata": {},
   "source": [
    "# Using Test Fixtures at Module Level\n",
    "Now let's add the following at the top of test_module1.py."
   ]
  },
  {
   "cell_type": "raw",
   "id": "ed587ec3",
   "metadata": {},
   "source": [
    ".... \n",
    "\n",
    "def setUpModule():\n",
    "    print('Executed before an test in the module')\n",
    "\n",
    "def tearDownModule():\n",
    "    print('Executed after all tests in module are run')\n",
    "    \n",
    "class Testadd2num(unittest.TestCase):\n",
    "   ...."
   ]
  },
  {
   "cell_type": "markdown",
   "id": "115dbd93",
   "metadata": {},
   "source": [
    "setUpModule runs once before any is executed in a module and tearDownModule runs once after all tests in a module are executed.\n",
    "\n",
    "Output:"
   ]
  },
  {
   "cell_type": "raw",
   "id": "dfc6b451",
   "metadata": {},
   "source": [
    "Executed before an test in the module is run\n",
    "Executed before any test in the class runs\n",
    "Executed before start of every test\n",
    "Executed at the end of every test\n",
    ".Executed before start of every test\n",
    "Executed at the end of every test\n",
    ".Executed after all tests in class are run\n",
    "...Executed after all tests in module are run\n",
    "-----------\n",
    "Ran 5 tests in 0.010s\n",
    "\n",
    "OK"
   ]
  },
  {
   "cell_type": "code",
   "execution_count": null,
   "id": "2f7a451c",
   "metadata": {},
   "outputs": [],
   "source": []
  }
 ],
 "metadata": {
  "kernelspec": {
   "display_name": "Python 3 (ipykernel)",
   "language": "python",
   "name": "python3"
  },
  "language_info": {
   "codemirror_mode": {
    "name": "ipython",
    "version": 3
   },
   "file_extension": ".py",
   "mimetype": "text/x-python",
   "name": "python",
   "nbconvert_exporter": "python",
   "pygments_lexer": "ipython3",
   "version": "3.9.12"
  }
 },
 "nbformat": 4,
 "nbformat_minor": 5
}
