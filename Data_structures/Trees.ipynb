{
 "cells": [
  {
   "cell_type": "markdown",
   "id": "3aeb39ba",
   "metadata": {},
   "source": [
    "# Python - Binary Tree"
   ]
  },
  {
   "cell_type": "markdown",
   "id": "5894f233",
   "metadata": {},
   "source": [
    "It is a non-linear data structure. It has the following properties −\n",
    "\n",
    "One node is marked as Root node.\n",
    "\n",
    "Every node other than the root is associated with one parent node.\n",
    "\n",
    "Each node can have an arbiatry number of chid node."
   ]
  },
  {
   "cell_type": "code",
   "execution_count": 12,
   "id": "19310a79",
   "metadata": {},
   "outputs": [],
   "source": [
    "#creating node\n",
    "\n",
    "class Node:\n",
    "    def __init__(self,val):\n",
    "        self.val = val\n",
    "        self.left = None\n",
    "        self.right = None\n",
    "    \n",
    "\n",
    "class Binary_Tree:\n",
    "    def __init__(self,val):\n",
    "        self.head = None\n",
    "    \n",
    "    def insertVal(self,val):\n",
    "        if self.val is None:\n",
    "            newNode = Node(val)\n",
    "            self.val = newNode\n",
    "            return\n",
    "        if val < self.val:\n",
    "            if self.left is None:\n",
    "                newNode = Node(val)\n",
    "                self.left = newNode\n",
    "            else:\n",
    "                self.left.insertVal(val)\n",
    "        else:\n",
    "            if self.right is None:\n",
    "                newNode = Node(val)\n",
    "                self.right = newNode\n",
    "            else:\n",
    "                self.right.insertVal(val)\n",
    "            \n",
    "    "
   ]
  },
  {
   "cell_type": "code",
   "execution_count": 13,
   "id": "c564a01e",
   "metadata": {},
   "outputs": [
    {
     "ename": "AttributeError",
     "evalue": "'Node' object has no attribute 'insertVal'",
     "output_type": "error",
     "traceback": [
      "\u001b[1;31m---------------------------------------------------------------------------\u001b[0m",
      "\u001b[1;31mAttributeError\u001b[0m                            Traceback (most recent call last)",
      "Input \u001b[1;32mIn [13]\u001b[0m, in \u001b[0;36m<cell line: 8>\u001b[1;34m()\u001b[0m\n\u001b[0;32m      6\u001b[0m root\u001b[38;5;241m.\u001b[39minsertVal(\u001b[38;5;241m5\u001b[39m)\n\u001b[0;32m      7\u001b[0m root\u001b[38;5;241m.\u001b[39minsertVal(\u001b[38;5;241m15\u001b[39m)\n\u001b[1;32m----> 8\u001b[0m \u001b[43mroot\u001b[49m\u001b[38;5;241;43m.\u001b[39;49m\u001b[43minsertVal\u001b[49m\u001b[43m(\u001b[49m\u001b[38;5;241;43m7\u001b[39;49m\u001b[43m)\u001b[49m\n\u001b[0;32m      9\u001b[0m root\u001b[38;5;241m.\u001b[39minsertVal(\u001b[38;5;241m12\u001b[39m)\n\u001b[0;32m     10\u001b[0m root\u001b[38;5;241m.\u001b[39minsertVal(\u001b[38;5;241m3\u001b[39m)\n",
      "Input \u001b[1;32mIn [12]\u001b[0m, in \u001b[0;36mBinary_Tree.insertVal\u001b[1;34m(self, val)\u001b[0m\n\u001b[0;32m     17\u001b[0m         \u001b[38;5;28mself\u001b[39m\u001b[38;5;241m.\u001b[39mleft \u001b[38;5;241m=\u001b[39m newNode\n\u001b[0;32m     18\u001b[0m     \u001b[38;5;28;01melse\u001b[39;00m:\n\u001b[1;32m---> 19\u001b[0m         \u001b[38;5;28;43mself\u001b[39;49m\u001b[38;5;241;43m.\u001b[39;49m\u001b[43mleft\u001b[49m\u001b[38;5;241;43m.\u001b[39;49m\u001b[43minsertVal\u001b[49m(val)\n\u001b[0;32m     20\u001b[0m \u001b[38;5;28;01melse\u001b[39;00m:\n\u001b[0;32m     21\u001b[0m     \u001b[38;5;28;01mif\u001b[39;00m \u001b[38;5;28mself\u001b[39m\u001b[38;5;241m.\u001b[39mright \u001b[38;5;129;01mis\u001b[39;00m \u001b[38;5;28;01mNone\u001b[39;00m:\n",
      "\u001b[1;31mAttributeError\u001b[0m: 'Node' object has no attribute 'insertVal'"
     ]
    }
   ],
   "source": [
    "#creating root\n",
    "\n",
    "root = Binary_Tree(10)\n",
    "\n",
    "#creating childNodes\n",
    "root.insertVal(5)\n",
    "root.insertVal(15)\n",
    "root.insertVal(7)\n",
    "root.insertVal(12)\n",
    "root.insertVal(3)\n",
    "root.insertVal(17)\n",
    "\n"
   ]
  },
  {
   "cell_type": "code",
   "execution_count": null,
   "id": "7207d9e4",
   "metadata": {},
   "outputs": [],
   "source": []
  }
 ],
 "metadata": {
  "kernelspec": {
   "display_name": "Python 3 (ipykernel)",
   "language": "python",
   "name": "python3"
  },
  "language_info": {
   "codemirror_mode": {
    "name": "ipython",
    "version": 3
   },
   "file_extension": ".py",
   "mimetype": "text/x-python",
   "name": "python",
   "nbconvert_exporter": "python",
   "pygments_lexer": "ipython3",
   "version": "3.9.12"
  }
 },
 "nbformat": 4,
 "nbformat_minor": 5
}
