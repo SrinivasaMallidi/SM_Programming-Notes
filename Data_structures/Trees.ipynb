{
 "cells": [
  {
   "cell_type": "markdown",
   "id": "3aeb39ba",
   "metadata": {},
   "source": [
    "# Python - Binary Tree"
   ]
  },
  {
   "cell_type": "markdown",
   "id": "5894f233",
   "metadata": {},
   "source": [
    "It is a non-linear data structure. It has the following properties −\n",
    "\n",
    "One node is marked as Root node.\n",
    "\n",
    "Every node other than the root is associated with one parent node.\n",
    "\n",
    "Each node can have an arbiatry number of chid node."
   ]
  },
  {
   "cell_type": "code",
   "execution_count": 52,
   "id": "19310a79",
   "metadata": {},
   "outputs": [],
   "source": [
    "#creating node\n",
    "\n",
    "class Node:\n",
    "    def __init__(self,val):\n",
    "        self.val = val\n",
    "        self.left = None\n",
    "        self.right = None\n",
    "    \n",
    "\n",
    "class Binary_Tree:\n",
    "    def __init__(self,val):\n",
    "        self.val = val\n",
    "        self.left = None\n",
    "        self.right = None\n",
    "    \n",
    "    def insertVal(self,val):       \n",
    "        \n",
    "        if self.val is None:\n",
    "            self.val = Binary_Tree(val)\n",
    "            return\n",
    "        if val < self.val:\n",
    "            if self.left is None:\n",
    "                self.left = Binary_Tree(val)\n",
    "            else:\n",
    "                self.left.insertVal(val)\n",
    "        else:\n",
    "            if self.right is None:\n",
    "                self.right = Binary_Tree(val)\n",
    "            else:\n",
    "                self.right.insertVal(val)\n",
    "    \n",
    "    # Inorder traversal\n",
    "    # Left -> Root -> Right\n",
    "    \n",
    "    def inorder_traversal(self,root):\n",
    "        if root:\n",
    "            self.inorder_traversal(root.left)\n",
    "            print(root.val)\n",
    "            self.inorder_traversal(root.right)\n",
    "    \n",
    "    # preorder traversal\n",
    "    # Left -> Root -> Right\n",
    "    \n",
    "    def preorder_traversal(self,root):\n",
    "        if root:\n",
    "            print(root.val)\n",
    "            self.inorder_traversal(root.left)\n",
    "            self.inorder_traversal(root.right)\n",
    "    \n",
    "    # postorder traversal\n",
    "    # Left -> Root -> Right\n",
    "    \n",
    "    def postorder_traversal(self,root):\n",
    "        if root:\n",
    "            self.inorder_traversal(root.left)\n",
    "            self.inorder_traversal(root.right)\n",
    "            print(root.val)\n",
    "            \n",
    "    #Search in Tree\n",
    "    def searchValue(self,key):\n",
    "        if key < self.val:\n",
    "            if self.left is None:\n",
    "                return str(key)+\" not found in Tree.\"\n",
    "            return self.left.searchValue(key)\n",
    "        elif key > self.val:\n",
    "            if self.right is None:\n",
    "                return str(key)+\" not found in Tree.\"\n",
    "            return self.right.searchValue(key)\n",
    "        else:\n",
    "            return str(key)+\" found in Tree.\"\n",
    "    "
   ]
  },
  {
   "cell_type": "code",
   "execution_count": 53,
   "id": "c564a01e",
   "metadata": {},
   "outputs": [
    {
     "name": "stdout",
     "output_type": "stream",
     "text": [
      "5\n",
      "10\n",
      "15\n"
     ]
    }
   ],
   "source": [
    "#creating root\n",
    "\n",
    "root = Binary_Tree(10)\n",
    "\n",
    "#creating childNodes\n",
    "root.insertVal(5)\n",
    "root.insertVal(15)\n",
    "\n",
    "root.inorder_traversal(root)\n"
   ]
  },
  {
   "cell_type": "code",
   "execution_count": 54,
   "id": "7207d9e4",
   "metadata": {},
   "outputs": [
    {
     "name": "stdout",
     "output_type": "stream",
     "text": [
      "3\n",
      "5\n",
      "7\n",
      "10\n",
      "12\n",
      "15\n",
      "17\n"
     ]
    }
   ],
   "source": [
    "\n",
    "root.insertVal(7)\n",
    "root.insertVal(12)\n",
    "root.insertVal(3)\n",
    "root.insertVal(17)\n",
    "\n",
    "root.inorder_traversal(root)"
   ]
  },
  {
   "cell_type": "code",
   "execution_count": 55,
   "id": "13632dd8",
   "metadata": {},
   "outputs": [
    {
     "name": "stdout",
     "output_type": "stream",
     "text": [
      "10\n",
      "3\n",
      "5\n",
      "7\n",
      "12\n",
      "15\n",
      "17\n"
     ]
    }
   ],
   "source": [
    "#PreOrder Traversal\n",
    "\n",
    "root.preorder_traversal(root)"
   ]
  },
  {
   "cell_type": "code",
   "execution_count": 56,
   "id": "067dda7e",
   "metadata": {},
   "outputs": [
    {
     "name": "stdout",
     "output_type": "stream",
     "text": [
      "3\n",
      "5\n",
      "7\n",
      "12\n",
      "15\n",
      "17\n",
      "10\n"
     ]
    }
   ],
   "source": [
    "#postOrder Traversal\n",
    "\n",
    "root.postorder_traversal(root)"
   ]
  },
  {
   "cell_type": "markdown",
   "id": "5fc565f4",
   "metadata": {},
   "source": [
    "# Binary Search Tree (BST)"
   ]
  },
  {
   "cell_type": "markdown",
   "id": "ab20bae4",
   "metadata": {},
   "source": [
    "A Binary Search Tree (BST) is a tree in which all the nodes follow the below-mentioned properties.\n",
    "\n",
    "--->The left sub-tree of a node has a key less than or equal to its parent node's key.\n",
    "\n",
    "--->The right sub-tree of a node has a key greater than to its parent node's key.\n",
    "\n",
    "Thus, BST divides all its sub-trees into two segments; the left sub-tree and the right sub-tree\n",
    "\n",
    "left_subtree (keys) ≤ node (key) ≤ right_subtree (keys)"
   ]
  },
  {
   "cell_type": "code",
   "execution_count": 57,
   "id": "728cba11",
   "metadata": {},
   "outputs": [
    {
     "name": "stdout",
     "output_type": "stream",
     "text": [
      "15 found in Tree.\n"
     ]
    }
   ],
   "source": [
    "print(root.searchValue(15))"
   ]
  },
  {
   "cell_type": "code",
   "execution_count": 58,
   "id": "bc733784",
   "metadata": {},
   "outputs": [
    {
     "name": "stdout",
     "output_type": "stream",
     "text": [
      "11 not found in Tree.\n"
     ]
    }
   ],
   "source": [
    "print(root.searchValue(11))"
   ]
  },
  {
   "cell_type": "code",
   "execution_count": null,
   "id": "7250fe9c",
   "metadata": {},
   "outputs": [],
   "source": []
  }
 ],
 "metadata": {
  "kernelspec": {
   "display_name": "Python 3 (ipykernel)",
   "language": "python",
   "name": "python3"
  },
  "language_info": {
   "codemirror_mode": {
    "name": "ipython",
    "version": 3
   },
   "file_extension": ".py",
   "mimetype": "text/x-python",
   "name": "python",
   "nbconvert_exporter": "python",
   "pygments_lexer": "ipython3",
   "version": "3.9.12"
  }
 },
 "nbformat": 4,
 "nbformat_minor": 5
}
