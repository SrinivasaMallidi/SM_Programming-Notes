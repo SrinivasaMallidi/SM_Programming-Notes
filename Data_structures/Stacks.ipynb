{
 "cells": [
  {
   "cell_type": "markdown",
   "id": "40708ec0",
   "metadata": {},
   "source": [
    "# Stack in Python"
   ]
  },
  {
   "cell_type": "markdown",
   "id": "17a02532",
   "metadata": {},
   "source": [
    "Methods of Stack\n",
    "\n",
    "Python provides the following methods that are commonly used with the stack.\n",
    "\n",
    "empty() - It returns true, it the stack is empty. The time complexity is O(1).\n",
    "\n",
    "size() - It returns the length of the stack. The time complexity is O(1).\n",
    "\n",
    "top() - This method returns an address of the last element of the stack. The time complexity is O(1).\n",
    "\n",
    "push(g) - This method adds the element 'g' at the end of the stack - The time complexity is O(1).\n",
    "\n",
    "pop() - This method removes the topmost element of the stack. The time complexity is O(1)."
   ]
  },
  {
   "cell_type": "markdown",
   "id": "baf2f3cd",
   "metadata": {},
   "source": [
    "# Implementation Using List"
   ]
  },
  {
   "cell_type": "code",
   "execution_count": 1,
   "id": "06d56f79",
   "metadata": {},
   "outputs": [
    {
     "name": "stdout",
     "output_type": "stream",
     "text": [
      "[10, 20, 30]\n"
     ]
    }
   ],
   "source": [
    "s = [] #empty stack\n",
    "\n",
    "#using append() to push elements\n",
    "\n",
    "s.append(10)\n",
    "s.append(20)\n",
    "s.append(30)\n",
    "\n",
    "print(s)\n"
   ]
  },
  {
   "cell_type": "code",
   "execution_count": 2,
   "id": "659b7c9c",
   "metadata": {},
   "outputs": [
    {
     "name": "stdout",
     "output_type": "stream",
     "text": [
      "30\n",
      "[10, 20]\n"
     ]
    }
   ],
   "source": [
    "#pop() \n",
    "print(s.pop())\n",
    "print(s)"
   ]
  },
  {
   "cell_type": "code",
   "execution_count": 3,
   "id": "53bfaec7",
   "metadata": {},
   "outputs": [
    {
     "ename": "AttributeError",
     "evalue": "'list' object has no attribute 'top'",
     "output_type": "error",
     "traceback": [
      "\u001b[1;31m---------------------------------------------------------------------------\u001b[0m",
      "\u001b[1;31mAttributeError\u001b[0m                            Traceback (most recent call last)",
      "Input \u001b[1;32mIn [3]\u001b[0m, in \u001b[0;36m<cell line: 1>\u001b[1;34m()\u001b[0m\n\u001b[1;32m----> 1\u001b[0m \u001b[38;5;28mprint\u001b[39m(\u001b[43ms\u001b[49m\u001b[38;5;241;43m.\u001b[39;49m\u001b[43mtop\u001b[49m())\n\u001b[0;32m      2\u001b[0m \u001b[38;5;28mprint\u001b[39m(s)\n",
      "\u001b[1;31mAttributeError\u001b[0m: 'list' object has no attribute 'top'"
     ]
    }
   ],
   "source": [
    "print(s.top())\n",
    "print(s)"
   ]
  },
  {
   "cell_type": "markdown",
   "id": "5adfb706",
   "metadata": {},
   "source": [
    "# Implementation using collections.deque:"
   ]
  },
  {
   "cell_type": "markdown",
   "id": "528b21c8",
   "metadata": {},
   "source": [
    "Python stack can be implemented using the deque class from the collections module. Deque is preferred over the list in the cases where we need quicker append and pop operations from both the ends of the container, as deque provides an O(1) time complexity for append and pop operations as compared to list which provides O(n) time complexity"
   ]
  },
  {
   "cell_type": "code",
   "execution_count": 4,
   "id": "b7c45731",
   "metadata": {},
   "outputs": [
    {
     "name": "stdout",
     "output_type": "stream",
     "text": [
      "deque([100, 200, 300])\n"
     ]
    }
   ],
   "source": [
    "from collections import deque\n",
    "\n",
    "s2 = deque()\n",
    "\n",
    "s2.append(100)\n",
    "s2.append(200)\n",
    "s2.append(300)\n",
    "\n",
    "print(s2)"
   ]
  },
  {
   "cell_type": "code",
   "execution_count": 5,
   "id": "b0fe83b8",
   "metadata": {},
   "outputs": [
    {
     "name": "stdout",
     "output_type": "stream",
     "text": [
      "300\n",
      "deque([100, 200])\n"
     ]
    }
   ],
   "source": [
    "#pop() \n",
    "print(s2.pop())\n",
    "print(s2)"
   ]
  },
  {
   "cell_type": "markdown",
   "id": "432000d5",
   "metadata": {},
   "source": [
    "# Implementation using queue module"
   ]
  },
  {
   "cell_type": "markdown",
   "id": "e7232454",
   "metadata": {},
   "source": [
    "Queue module also has a LIFO Queue, which is basically a Stack. Data is inserted into Queue using the put() function and get() takes data out from the Queue."
   ]
  },
  {
   "cell_type": "markdown",
   "id": "117b5879",
   "metadata": {},
   "source": [
    "There are various functions available in this module: \n",
    "\n",
    "maxsize – Number of items allowed in the queue.\n",
    "\n",
    "empty() – Return True if the queue is empty, False otherwise.\n",
    "\n",
    "full() – Return True if there are maxsize items in the queue. If the queue was initialized with maxsize=0 (the default), then full() never returns True.\n",
    "\n",
    "get() – Remove and return an item from the queue. If the queue is empty, wait until an item is available.\n",
    "\n",
    "get_nowait() – Return an item if one is immediately available, else raise QueueEmpty.\n",
    "\n",
    "put(item) – Put an item into the queue. If the queue is full, wait until a free slot is available before adding the item.\n",
    "\n",
    "put_nowait(item) – Put an item into the queue without blocking. If no free slot is immediately available, raise QueueFull.\n",
    "\n",
    "qsize() – Return the number of items in the queue."
   ]
  },
  {
   "cell_type": "code",
   "execution_count": 6,
   "id": "9eec6048",
   "metadata": {},
   "outputs": [
    {
     "name": "stdout",
     "output_type": "stream",
     "text": [
      "0\n"
     ]
    }
   ],
   "source": [
    "from queue import LifoQueue\n",
    "\n",
    "s3 = LifoQueue(maxsize=3)\n",
    "\n",
    "print(s3.qsize())"
   ]
  },
  {
   "cell_type": "code",
   "execution_count": 7,
   "id": "98a8cd93",
   "metadata": {
    "scrolled": true
   },
   "outputs": [
    {
     "name": "stdout",
     "output_type": "stream",
     "text": [
      "<queue.LifoQueue object at 0x000001E5DE9D85E0>\n"
     ]
    }
   ],
   "source": [
    "s3.put(1000)\n",
    "s3.put(2000)\n",
    "s3.put(3000)\n",
    "\n",
    "print(s3)\n"
   ]
  },
  {
   "cell_type": "code",
   "execution_count": 8,
   "id": "11f9da89",
   "metadata": {},
   "outputs": [
    {
     "name": "stdout",
     "output_type": "stream",
     "text": [
      "Full:  True\n",
      "Size:  3\n"
     ]
    }
   ],
   "source": [
    "print(\"Full: \", s3.full())\n",
    "print(\"Size: \", s3.qsize())"
   ]
  },
  {
   "cell_type": "code",
   "execution_count": 9,
   "id": "2ba679d7",
   "metadata": {},
   "outputs": [
    {
     "ename": "TypeError",
     "evalue": "'LifoQueue' object is not iterable",
     "output_type": "error",
     "traceback": [
      "\u001b[1;31m---------------------------------------------------------------------------\u001b[0m",
      "\u001b[1;31mTypeError\u001b[0m                                 Traceback (most recent call last)",
      "Input \u001b[1;32mIn [9]\u001b[0m, in \u001b[0;36m<cell line: 1>\u001b[1;34m()\u001b[0m\n\u001b[1;32m----> 1\u001b[0m \u001b[38;5;28;01mfor\u001b[39;00m i \u001b[38;5;129;01min\u001b[39;00m s3:\n\u001b[0;32m      2\u001b[0m     \u001b[38;5;28mprint\u001b[39m(i)\n",
      "\u001b[1;31mTypeError\u001b[0m: 'LifoQueue' object is not iterable"
     ]
    }
   ],
   "source": [
    "for i in s3:\n",
    "    print(i)"
   ]
  },
  {
   "cell_type": "code",
   "execution_count": 10,
   "id": "22dd5c1e",
   "metadata": {},
   "outputs": [
    {
     "name": "stdout",
     "output_type": "stream",
     "text": [
      "\n",
      "Elements popped from the stack\n",
      "3000\n",
      "2000\n",
      "1000\n"
     ]
    }
   ],
   "source": [
    "print('\\nElements popped from the stack')\n",
    "print(s3.get())\n",
    "print(s3.get())\n",
    "print(s3.get())"
   ]
  },
  {
   "cell_type": "code",
   "execution_count": 11,
   "id": "3504ee4f",
   "metadata": {},
   "outputs": [
    {
     "name": "stdout",
     "output_type": "stream",
     "text": [
      "\n",
      "Empty:  True\n"
     ]
    }
   ],
   "source": [
    "print(\"\\nEmpty: \", s3.empty())"
   ]
  },
  {
   "cell_type": "markdown",
   "id": "dd11e66e",
   "metadata": {},
   "source": [
    "# Implementation using a singly linked list:"
   ]
  },
  {
   "cell_type": "code",
   "execution_count": 94,
   "id": "9764d2eb",
   "metadata": {},
   "outputs": [],
   "source": [
    "class Node:\n",
    "    def __init__(self,val):\n",
    "        self.val = val\n",
    "        self.next = None\n",
    "\n",
    "class Stack:\n",
    "    def __init__(self):\n",
    "        self.head = None\n",
    "        self.size = 0\n",
    "        \n",
    "    def __str__(self):\n",
    "        if self.head is None:\n",
    "            return(\"Stack is empty\") \n",
    "        ans = \"\"\n",
    "        \n",
    "        temp_head = self.head\n",
    "        while(temp_head):\n",
    "            ans = ans + str(temp_head.val) + \" ->\"\n",
    "            temp_head = temp_head.next\n",
    "        return ans[:-4]\n",
    "            \n",
    "    def push(self,val):\n",
    "        newNode = Node(val)\n",
    "        self.size += 1\n",
    "        if self.head is None:\n",
    "            self.head = newNode\n",
    "            return\n",
    "        newNode.next = self.head\n",
    "        self.head = newNode\n",
    "        return\n",
    "    \n",
    "    \n",
    "    def pop(self):\n",
    "        if self.head is None:\n",
    "            print(\"Stack is empty\")\n",
    "            return\n",
    "        temp_head = self.head\n",
    "        self.head = temp_head.next\n",
    "        self.size -= 1\n",
    "        return temp_head.val\n",
    "    \n",
    "    def getSize(self):\n",
    "        return self.size\n",
    "    \n",
    "    \n",
    "        \n",
    "        \n",
    "    def peek(self):\n",
    "        if self.head is None:\n",
    "            print(\"Stack is empty\")\n",
    "            return\n",
    "        temp_head = self.head\n",
    "        return temp_head.val\n",
    "    "
   ]
  },
  {
   "cell_type": "code",
   "execution_count": 95,
   "id": "80ab22be",
   "metadata": {},
   "outputs": [],
   "source": [
    "s4 = Stack()\n",
    "s4.push(1000)"
   ]
  },
  {
   "cell_type": "code",
   "execution_count": 96,
   "id": "61f6aea3",
   "metadata": {},
   "outputs": [
    {
     "name": "stdout",
     "output_type": "stream",
     "text": [
      "100\n"
     ]
    }
   ],
   "source": [
    "\n",
    "print(s4)"
   ]
  },
  {
   "cell_type": "code",
   "execution_count": 97,
   "id": "cf7b2f13",
   "metadata": {},
   "outputs": [
    {
     "data": {
      "text/plain": [
       "1"
      ]
     },
     "execution_count": 97,
     "metadata": {},
     "output_type": "execute_result"
    }
   ],
   "source": [
    "s4.getSize()"
   ]
  },
  {
   "cell_type": "code",
   "execution_count": 98,
   "id": "b18cdba8",
   "metadata": {},
   "outputs": [
    {
     "name": "stdout",
     "output_type": "stream",
     "text": [
      "3000 ->2000 ->100\n"
     ]
    },
    {
     "data": {
      "text/plain": [
       "3"
      ]
     },
     "execution_count": 98,
     "metadata": {},
     "output_type": "execute_result"
    }
   ],
   "source": [
    "s4.push(2000)\n",
    "s4.push(3000)\n",
    "\n",
    "print(s4)\n",
    "s4.getSize()"
   ]
  },
  {
   "cell_type": "code",
   "execution_count": 99,
   "id": "f5584cf1",
   "metadata": {},
   "outputs": [
    {
     "data": {
      "text/plain": [
       "3000"
      ]
     },
     "execution_count": 99,
     "metadata": {},
     "output_type": "execute_result"
    }
   ],
   "source": [
    "s4.peek()"
   ]
  },
  {
   "cell_type": "code",
   "execution_count": 100,
   "id": "ce542ccc",
   "metadata": {},
   "outputs": [
    {
     "data": {
      "text/plain": [
       "3000"
      ]
     },
     "execution_count": 100,
     "metadata": {},
     "output_type": "execute_result"
    }
   ],
   "source": [
    "s4.pop()"
   ]
  },
  {
   "cell_type": "code",
   "execution_count": 101,
   "id": "68a8c2f9",
   "metadata": {
    "scrolled": true
   },
   "outputs": [
    {
     "name": "stdout",
     "output_type": "stream",
     "text": [
      "2000 ->100\n"
     ]
    }
   ],
   "source": [
    "print(s4)\n"
   ]
  },
  {
   "cell_type": "code",
   "execution_count": 102,
   "id": "dc9ea606",
   "metadata": {},
   "outputs": [
    {
     "data": {
      "text/plain": [
       "2"
      ]
     },
     "execution_count": 102,
     "metadata": {},
     "output_type": "execute_result"
    }
   ],
   "source": [
    "s4.getSize()"
   ]
  },
  {
   "cell_type": "code",
   "execution_count": 103,
   "id": "4597194e",
   "metadata": {},
   "outputs": [
    {
     "data": {
      "text/plain": [
       "1000"
      ]
     },
     "execution_count": 103,
     "metadata": {},
     "output_type": "execute_result"
    }
   ],
   "source": [
    "s4.pop()\n",
    "s4.pop()"
   ]
  },
  {
   "cell_type": "code",
   "execution_count": 104,
   "id": "f8abbf78",
   "metadata": {},
   "outputs": [
    {
     "name": "stdout",
     "output_type": "stream",
     "text": [
      "Stack is empty\n"
     ]
    }
   ],
   "source": [
    "print(s4)"
   ]
  },
  {
   "cell_type": "code",
   "execution_count": 105,
   "id": "67a51352",
   "metadata": {},
   "outputs": [
    {
     "data": {
      "text/plain": [
       "0"
      ]
     },
     "execution_count": 105,
     "metadata": {},
     "output_type": "execute_result"
    }
   ],
   "source": [
    "s4.getSize()"
   ]
  },
  {
   "cell_type": "code",
   "execution_count": null,
   "id": "f6c0dbfe",
   "metadata": {},
   "outputs": [],
   "source": []
  }
 ],
 "metadata": {
  "kernelspec": {
   "display_name": "Python 3 (ipykernel)",
   "language": "python",
   "name": "python3"
  },
  "language_info": {
   "codemirror_mode": {
    "name": "ipython",
    "version": 3
   },
   "file_extension": ".py",
   "mimetype": "text/x-python",
   "name": "python",
   "nbconvert_exporter": "python",
   "pygments_lexer": "ipython3",
   "version": "3.9.12"
  }
 },
 "nbformat": 4,
 "nbformat_minor": 5
}
