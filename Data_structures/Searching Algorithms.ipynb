{
 "cells": [
  {
   "cell_type": "markdown",
   "id": "8d4cd667",
   "metadata": {},
   "source": [
    "# Linear Search "
   ]
  },
  {
   "cell_type": "code",
   "execution_count": 3,
   "id": "537aab0c",
   "metadata": {},
   "outputs": [
    {
     "name": "stdout",
     "output_type": "stream",
     "text": [
      "Element 20 found at index-3\n"
     ]
    }
   ],
   "source": [
    "def linear_search(arr,key):\n",
    "    for i in range(len(arr)):\n",
    "        if key == arr[i] :\n",
    "            return i\n",
    "    return -1\n",
    "\n",
    "arr = [50,40,30,20,10]\n",
    "k=linear_search(arr,20)\n",
    "print(\"Element 20 found at index-\"+str(k))"
   ]
  },
  {
   "cell_type": "markdown",
   "id": "80a64287",
   "metadata": {},
   "source": [
    "# Binary Search "
   ]
  },
  {
   "cell_type": "code",
   "execution_count": 6,
   "id": "ff039763",
   "metadata": {},
   "outputs": [
    {
     "name": "stdout",
     "output_type": "stream",
     "text": [
      "Element Found\n"
     ]
    }
   ],
   "source": [
    "def  binary_search(arr,key):\n",
    "    arr.sort() \n",
    "    low = 0\n",
    "    high = len(arr)-1\n",
    "    while(low<=high):\n",
    "        mid = (low+high)//2\n",
    "        if key == arr[mid]:\n",
    "            return True\n",
    "        if key < arr[mid]:\n",
    "            high = mid\n",
    "        else:\n",
    "            low = mid + 1\n",
    "    return False\n",
    "\n",
    "arr = [50,40,30,20,10]\n",
    "if (binary_search(arr,20)):\n",
    "    print(\"Element Found\")\n",
    "else:\n",
    "    print(\"Element not found\")\n",
    "\n"
   ]
  },
  {
   "cell_type": "code",
   "execution_count": 7,
   "id": "7fce7323",
   "metadata": {},
   "outputs": [
    {
     "name": "stdout",
     "output_type": "stream",
     "text": [
      "Element not found\n"
     ]
    }
   ],
   "source": [
    "\n",
    "if (binary_search(arr,90)):\n",
    "    print(\"Element Found\")\n",
    "else:\n",
    "    print(\"Element not found\")"
   ]
  },
  {
   "cell_type": "code",
   "execution_count": null,
   "id": "0f6e8911",
   "metadata": {},
   "outputs": [],
   "source": []
  }
 ],
 "metadata": {
  "kernelspec": {
   "display_name": "Python 3 (ipykernel)",
   "language": "python",
   "name": "python3"
  },
  "language_info": {
   "codemirror_mode": {
    "name": "ipython",
    "version": 3
   },
   "file_extension": ".py",
   "mimetype": "text/x-python",
   "name": "python",
   "nbconvert_exporter": "python",
   "pygments_lexer": "ipython3",
   "version": "3.9.12"
  }
 },
 "nbformat": 4,
 "nbformat_minor": 5
}
