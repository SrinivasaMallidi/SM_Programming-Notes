{
 "cells": [
  {
   "cell_type": "markdown",
   "id": "2df8e29a",
   "metadata": {},
   "source": [
    "# Graphs in Python"
   ]
  },
  {
   "cell_type": "markdown",
   "id": "cd92bc60",
   "metadata": {},
   "source": [
    "Following are the basic operations we perform on graphs.\n",
    "\n",
    "1) Creating a graph\n",
    "\n",
    "2) Add a vertex\n",
    "\n",
    "3) Add an edge\n",
    "\n",
    "4) Display graph vertices\n",
    "\n",
    "5) Display graph edges"
   ]
  },
  {
   "attachments": {
    "Screenshot_20221221_212628.png": {
     "image/png": "[encoded data removed]"
    }
   },
   "cell_type": "markdown",
   "id": "1e0e45ee",
   "metadata": {},
   "source": [
    "![Screenshot_20221221_212628.png](attachment:Screenshot_20221221_212628.png)"
   ]
  },
  {
   "cell_type": "markdown",
   "id": "c0d83b38",
   "metadata": {},
   "source": [
    "In the above graph,\n",
    "\n",
    "Vertices = {a, b, c, d, e}\n",
    "\n",
    "Edges = {ab, ac, bd, cd, de}"
   ]
  },
  {
   "cell_type": "code",
   "execution_count": 2,
   "id": "35567c19",
   "metadata": {},
   "outputs": [
    {
     "name": "stdout",
     "output_type": "stream",
     "text": [
      "{'a': ['b', 'c'], 'b': ['a', 'd'], 'c': ['a', 'd'], 'd': ['e'], 'e': ['d']}\n"
     ]
    }
   ],
   "source": [
    "# Create the dictionary with graph elements\n",
    "graph = { \n",
    "   \"a\" : [\"b\",\"c\"],\n",
    "   \"b\" : [\"a\", \"d\"],\n",
    "   \"c\" : [\"a\", \"d\"],\n",
    "   \"d\" : [\"e\"],\n",
    "   \"e\" : [\"d\"]\n",
    "}\n",
    "# Print the graph\n",
    "print(graph)"
   ]
  },
  {
   "cell_type": "code",
   "execution_count": 33,
   "id": "ac9db98e",
   "metadata": {},
   "outputs": [],
   "source": [
    "#Bidirectional Graph\n",
    "class Graph:\n",
    "    def __init__(self):\n",
    "        self.graph={}\n",
    "    \n",
    "    def addVertex(self,v):\n",
    "        if v in self.graph:\n",
    "            print(\"Vertex is already present\")\n",
    "            return\n",
    "        self.graph[v] = []\n",
    "    \n",
    "    def getVertices(self):\n",
    "        return list(self.graph.keys())\n",
    "    \n",
    "    def addEdge(self,edge):\n",
    "        edge = set(edge)\n",
    "        (v1,v2) = tuple(edge)\n",
    "        \n",
    "        if v1 in self.graph:\n",
    "            self.graph[v1].append(v2)\n",
    "        else:\n",
    "            self.graph[v1] = v2\n",
    "            \n",
    "        if v2 in self.graph:\n",
    "            self.graph[v2].append(v1)\n",
    "        else:\n",
    "            self.graph[v2] = v1\n",
    "    \n",
    "    def getEdges(self):\n",
    "        edges = []\n",
    "        for v1 in self.graph:\n",
    "            for v2 in self.graph[v1]:\n",
    "                if {v1,v2} not in edges:\n",
    "                    edges.append({v1,v2})\n",
    "        return edges\n",
    "    \n",
    "    def printGraph(self):\n",
    "        for v1 in self.graph:\n",
    "            print(str(v1)+\"-->\"+str(self.graph[v1]))\n",
    "        "
   ]
  },
  {
   "cell_type": "code",
   "execution_count": 34,
   "id": "96655d0e",
   "metadata": {},
   "outputs": [],
   "source": [
    "g = Graph()\n",
    "g.addVertex('a')\n",
    "g.addVertex('b')\n",
    "g.addVertex('c')\n",
    "g.addVertex('d')\n",
    "g.addVertex('e')"
   ]
  },
  {
   "cell_type": "code",
   "execution_count": 35,
   "id": "8df8cc07",
   "metadata": {},
   "outputs": [
    {
     "data": {
      "text/plain": [
       "['a', 'b', 'c', 'd', 'e']"
      ]
     },
     "execution_count": 35,
     "metadata": {},
     "output_type": "execute_result"
    }
   ],
   "source": [
    "g.getVertices()"
   ]
  },
  {
   "cell_type": "code",
   "execution_count": 36,
   "id": "f33efc01",
   "metadata": {},
   "outputs": [],
   "source": [
    "g.addEdge({'a','b'})\n",
    "g.addEdge({'a','c'})\n",
    "g.addEdge({'b','d'})\n",
    "g.addEdge({'c','d'})\n",
    "g.addEdge({'c','e'})"
   ]
  },
  {
   "cell_type": "code",
   "execution_count": 37,
   "id": "10dbc5f6",
   "metadata": {},
   "outputs": [
    {
     "data": {
      "text/plain": [
       "[{'a', 'b'}, {'a', 'c'}, {'b', 'd'}, {'c', 'd'}, {'c', 'e'}]"
      ]
     },
     "execution_count": 37,
     "metadata": {},
     "output_type": "execute_result"
    }
   ],
   "source": [
    "g.getEdges()"
   ]
  },
  {
   "cell_type": "code",
   "execution_count": 38,
   "id": "d544f6c8",
   "metadata": {},
   "outputs": [
    {
     "name": "stdout",
     "output_type": "stream",
     "text": [
      "a-->['b', 'c']\n",
      "b-->['a', 'd']\n",
      "c-->['a', 'd', 'e']\n",
      "d-->['b', 'c']\n",
      "e-->['c']\n"
     ]
    }
   ],
   "source": [
    "g.printGraph()"
   ]
  },
  {
   "cell_type": "markdown",
   "id": "2c9d9eb4",
   "metadata": {},
   "source": [
    "# Graph using an adjacency matrix"
   ]
  },
  {
   "cell_type": "code",
   "execution_count": 58,
   "id": "238a2029",
   "metadata": {},
   "outputs": [],
   "source": [
    "class Graph2:\n",
    "    def __init__(self):\n",
    "        self.vertices = []\n",
    "        self.vertex_count = 0\n",
    "        self.graph = []\n",
    "    \n",
    "    def addVertex(self,key):\n",
    "        if key in self.vertices:\n",
    "            print(\"Vertex already present\")\n",
    "            return\n",
    "        self.vertices.append(key)\n",
    "        self.vertex_count += 1\n",
    "        \n",
    "        if self.vertex_count > 1:\n",
    "            for i in self.graph:\n",
    "                i.append(0)\n",
    "            \n",
    "        temp = [0 for i in range(self.vertex_count)]\n",
    "        self.graph.append(temp)\n",
    "    \n",
    "    def getVertexCount(self):\n",
    "        return self.vertex_count\n",
    "    def getVertices(self):\n",
    "        return self.vertices\n",
    "    \n",
    "    def printGraph(self):\n",
    "        for i in self.graph:\n",
    "            print(i)\n",
    "    #Add an edge between vertex v1 and v2 with edge weight e\n",
    "    def addEdge(self,v1,v2,e):\n",
    "        if v1 not in self.vertices:\n",
    "            print(str(v1)+\"- not in vertices\")\n",
    "            return\n",
    "        if v2 not in self.vertices:\n",
    "            print(str(v2)+\"- not in vertices\")\n",
    "            return\n",
    "        v1_index = self.vertices.index(v1)\n",
    "        v2_index = self.vertices.index(v2)\n",
    "        self.graph[v1_index][v2_index] = e\n",
    "            "
   ]
  },
  {
   "cell_type": "code",
   "execution_count": 59,
   "id": "30536235",
   "metadata": {},
   "outputs": [
    {
     "name": "stdout",
     "output_type": "stream",
     "text": [
      "['a', 'b', 'c', 'd', 'e']\n",
      "5\n",
      "[0, 0, 0, 0, 0]\n",
      "[0, 0, 0, 0, 0]\n",
      "[0, 0, 0, 0, 0]\n",
      "[0, 0, 0, 0, 0]\n",
      "[0, 0, 0, 0, 0]\n"
     ]
    }
   ],
   "source": [
    "g2 = Graph2()\n",
    "\n",
    "g2.addVertex('a')\n",
    "g2.addVertex('b')\n",
    "g2.addVertex('c')\n",
    "g2.addVertex('d')\n",
    "g2.addVertex('e')\n",
    "\n",
    "print(g2.getVertices())\n",
    "print(g2.getVertexCount())\n",
    "g2.printGraph()"
   ]
  },
  {
   "cell_type": "code",
   "execution_count": 60,
   "id": "4a46d1a3",
   "metadata": {},
   "outputs": [],
   "source": [
    "g2.addEdge('a','b',5)\n",
    "g2.addEdge('a','c',6)\n",
    "g2.addEdge('b','c',4)\n",
    "g2.addEdge('b','d',5)\n",
    "g2.addEdge('c','e',3)"
   ]
  },
  {
   "cell_type": "code",
   "execution_count": 61,
   "id": "e523f011",
   "metadata": {},
   "outputs": [
    {
     "name": "stdout",
     "output_type": "stream",
     "text": [
      "[0, 5, 6, 0, 0]\n",
      "[0, 0, 4, 5, 0]\n",
      "[0, 0, 0, 0, 3]\n",
      "[0, 0, 0, 0, 0]\n",
      "[0, 0, 0, 0, 0]\n"
     ]
    }
   ],
   "source": [
    "\n",
    "g2.printGraph()"
   ]
  },
  {
   "cell_type": "code",
   "execution_count": null,
   "id": "2d38d77e",
   "metadata": {},
   "outputs": [],
   "source": []
  }
 ],
 "metadata": {
  "kernelspec": {
   "display_name": "Python 3 (ipykernel)",
   "language": "python",
   "name": "python3"
  },
  "language_info": {
   "codemirror_mode": {
    "name": "ipython",
    "version": 3
   },
   "file_extension": ".py",
   "mimetype": "text/x-python",
   "name": "python",
   "nbconvert_exporter": "python",
   "pygments_lexer": "ipython3",
   "version": "3.9.12"
  }
 },
 "nbformat": 4,
 "nbformat_minor": 5
}
