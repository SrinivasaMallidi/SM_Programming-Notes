{
 "cells": [
  {
   "cell_type": "markdown",
   "id": "a193e6fa",
   "metadata": {},
   "source": [
    "# Creation of Linked list"
   ]
  },
  {
   "cell_type": "code",
   "execution_count": 1,
   "id": "562ffad3",
   "metadata": {},
   "outputs": [],
   "source": [
    "class Node:\n",
    "    def __init__(self,val=None):\n",
    "        self.val = val\n",
    "        self.next = None"
   ]
  },
  {
   "cell_type": "code",
   "execution_count": 116,
   "id": "d4efe800",
   "metadata": {},
   "outputs": [],
   "source": [
    "class Linked_list:\n",
    "    def __init__(self):\n",
    "        self.head = None\n",
    "        \n",
    "    def printLL(self):\n",
    "        temp_head = self.head\n",
    "        while(temp_head):\n",
    "            print(temp_head.val)\n",
    "            temp_head = temp_head.next\n",
    "    \n",
    "    def insertAtStart(self,val):\n",
    "        newNode = Node(val)\n",
    "        newNode.next = self.head\n",
    "        self.head = newNode\n",
    "    \n",
    "    def insertAtEnd(self,val):\n",
    "        newNode = Node(val)\n",
    "        if self.head is None:\n",
    "            self.head = newNode\n",
    "            return\n",
    "        \n",
    "        temp_head = self.head\n",
    "        while temp_head.next  :\n",
    "            temp_head = temp_head.next\n",
    "        \n",
    "        temp_head.next = newNode\n",
    "    \n",
    "    def insertAfter(self,target,val):\n",
    "        if self.head is None:\n",
    "            print(\"No elements in LL\")\n",
    "            return\n",
    "        temp_head = self.head\n",
    "        while temp_head :\n",
    "            if temp_head.val == target:\n",
    "                newNode = Node(val)\n",
    "                newNode.next = temp_head.next\n",
    "                temp_head.next = newNode\n",
    "                return\n",
    "            temp_head = temp_head.next\n",
    "        print(\"Target not found in given LL\")\n",
    "    \n",
    "    def insertBefore(self,target,val):\n",
    "        if self.head is None:\n",
    "            print(\"No elements in LL\")\n",
    "            return\n",
    "        temp_head = self.head\n",
    "        if temp_head.val == target:\n",
    "            newNode = Node(val)\n",
    "            newNode.next = temp_head\n",
    "            self.head = newNode\n",
    "            return\n",
    "            \n",
    "        while temp_head.next :\n",
    "            if temp_head.next.val == target:\n",
    "                newNode = Node(val)\n",
    "                newNode.next = temp_head.next\n",
    "                temp_head.next = newNode\n",
    "                return\n",
    "            temp_head = temp_head.next\n",
    "        print(\"Target not found in given LL\")\n",
    "        \n",
    "    \n",
    "    def removeNode(self,val):\n",
    "        if self.head is None:\n",
    "            print(\"No elements in LL\")\n",
    "            return\n",
    "        temp_head = self.head\n",
    "        if temp_head.val == val:\n",
    "            self.head = temp_head.next\n",
    "            temp_head.val = None\n",
    "            return\n",
    "        while(temp_head.next):\n",
    "            if temp_head.next.val == val:\n",
    "                temp_head.next.val = None\n",
    "                temp_head.next = temp_head.next.next\n",
    "                return\n",
    "            temp_head = temp_head.next\n",
    "        \n",
    "    \n",
    "        \n",
    "            "
   ]
  },
  {
   "cell_type": "markdown",
   "id": "0c3f4641",
   "metadata": {},
   "source": [
    "Now lets created a linked list that store data as follows \n",
    "\n",
    "10 --> 20 --> 30\n",
    "\n",
    "For this , we need to first create Nodes for each element and then need to link the nodes\n",
    "Then link first node to head node."
   ]
  },
  {
   "cell_type": "code",
   "execution_count": 117,
   "id": "eac680b3",
   "metadata": {},
   "outputs": [],
   "source": [
    "a = Node(10)\n",
    "b = Node(20)\n",
    "c= Node(30)\n",
    "\n",
    "a.next = b\n",
    "b.next = c\n",
    "\n",
    "myLL = Linked_list()\n",
    "myLL.head = a"
   ]
  },
  {
   "cell_type": "markdown",
   "id": "e483d178",
   "metadata": {},
   "source": [
    "# Traversing a Linked List"
   ]
  },
  {
   "cell_type": "markdown",
   "id": "f216e2fc",
   "metadata": {},
   "source": [
    "check the code of printLL in Linked_list Class"
   ]
  },
  {
   "cell_type": "code",
   "execution_count": 118,
   "id": "998ad0b8",
   "metadata": {},
   "outputs": [
    {
     "name": "stdout",
     "output_type": "stream",
     "text": [
      "10\n",
      "20\n",
      "30\n"
     ]
    }
   ],
   "source": [
    "myLL.printLL()"
   ]
  },
  {
   "cell_type": "markdown",
   "id": "d9ad9900",
   "metadata": {},
   "source": [
    "# Insertion in a Linked List"
   ]
  },
  {
   "cell_type": "markdown",
   "id": "6c8c9acc",
   "metadata": {},
   "source": [
    "Check the code of insertAtStart method in Linked_list Class"
   ]
  },
  {
   "cell_type": "code",
   "execution_count": 119,
   "id": "93ff2f45",
   "metadata": {},
   "outputs": [],
   "source": [
    "myLL.insertAtStart(5)"
   ]
  },
  {
   "cell_type": "code",
   "execution_count": 120,
   "id": "04f40e09",
   "metadata": {},
   "outputs": [
    {
     "name": "stdout",
     "output_type": "stream",
     "text": [
      "5\n",
      "10\n",
      "20\n",
      "30\n"
     ]
    }
   ],
   "source": [
    "myLL.printLL()"
   ]
  },
  {
   "cell_type": "markdown",
   "id": "c63f351e",
   "metadata": {},
   "source": [
    "Check the code of insertAtEnd method in Linked_list Class"
   ]
  },
  {
   "cell_type": "code",
   "execution_count": 121,
   "id": "19181c2a",
   "metadata": {},
   "outputs": [],
   "source": [
    "myLL.insertAtEnd(40)"
   ]
  },
  {
   "cell_type": "code",
   "execution_count": 122,
   "id": "3f1258a7",
   "metadata": {},
   "outputs": [
    {
     "name": "stdout",
     "output_type": "stream",
     "text": [
      "5\n",
      "10\n",
      "20\n",
      "30\n",
      "40\n"
     ]
    }
   ],
   "source": [
    "myLL.printLL()"
   ]
  },
  {
   "cell_type": "markdown",
   "id": "08fdd85a",
   "metadata": {},
   "source": [
    "Check the code of insertAfter method in Linked_list Class"
   ]
  },
  {
   "cell_type": "code",
   "execution_count": 123,
   "id": "d1981c47",
   "metadata": {},
   "outputs": [],
   "source": [
    "myLL.insertAfter(30,35)"
   ]
  },
  {
   "cell_type": "code",
   "execution_count": 124,
   "id": "18d7a9c5",
   "metadata": {
    "scrolled": true
   },
   "outputs": [
    {
     "name": "stdout",
     "output_type": "stream",
     "text": [
      "5\n",
      "10\n",
      "20\n",
      "30\n",
      "35\n",
      "40\n"
     ]
    }
   ],
   "source": [
    "myLL.printLL()"
   ]
  },
  {
   "cell_type": "code",
   "execution_count": 125,
   "id": "bffad72c",
   "metadata": {
    "scrolled": true
   },
   "outputs": [
    {
     "name": "stdout",
     "output_type": "stream",
     "text": [
      "Target not found in given LL\n"
     ]
    }
   ],
   "source": [
    "myLL.insertAfter(32,33)"
   ]
  },
  {
   "cell_type": "markdown",
   "id": "a13a9603",
   "metadata": {},
   "source": [
    "Check the code of insertBefore  method in Linked_list Class"
   ]
  },
  {
   "cell_type": "code",
   "execution_count": 126,
   "id": "4ff7ab30",
   "metadata": {},
   "outputs": [],
   "source": [
    "myLL.insertBefore(35,33)"
   ]
  },
  {
   "cell_type": "code",
   "execution_count": 127,
   "id": "90ea5b05",
   "metadata": {},
   "outputs": [
    {
     "name": "stdout",
     "output_type": "stream",
     "text": [
      "5\n",
      "10\n",
      "20\n",
      "30\n",
      "33\n",
      "35\n",
      "40\n"
     ]
    }
   ],
   "source": [
    "myLL.printLL()"
   ]
  },
  {
   "cell_type": "code",
   "execution_count": 128,
   "id": "cec6327e",
   "metadata": {},
   "outputs": [],
   "source": [
    "myLL.insertBefore(5,3)"
   ]
  },
  {
   "cell_type": "code",
   "execution_count": 129,
   "id": "e6d9ebf9",
   "metadata": {},
   "outputs": [
    {
     "name": "stdout",
     "output_type": "stream",
     "text": [
      "3\n",
      "5\n",
      "10\n",
      "20\n",
      "30\n",
      "33\n",
      "35\n",
      "40\n"
     ]
    }
   ],
   "source": [
    "myLL.printLL()"
   ]
  },
  {
   "cell_type": "code",
   "execution_count": 130,
   "id": "06ab5599",
   "metadata": {},
   "outputs": [
    {
     "name": "stdout",
     "output_type": "stream",
     "text": [
      "3\n",
      "4\n",
      "5\n",
      "10\n",
      "20\n",
      "30\n",
      "33\n",
      "35\n",
      "40\n"
     ]
    }
   ],
   "source": [
    "myLL.insertBefore(5,4)\n",
    "myLL.printLL()"
   ]
  },
  {
   "cell_type": "markdown",
   "id": "79021647",
   "metadata": {},
   "source": [
    "# Removing an Item"
   ]
  },
  {
   "cell_type": "markdown",
   "id": "2b692925",
   "metadata": {},
   "source": [
    "Check the code of removeNode method in Linked_list Class"
   ]
  },
  {
   "cell_type": "code",
   "execution_count": 131,
   "id": "ab4acb1b",
   "metadata": {},
   "outputs": [
    {
     "name": "stdout",
     "output_type": "stream",
     "text": [
      "4\n",
      "5\n",
      "10\n",
      "20\n",
      "30\n",
      "33\n",
      "35\n",
      "40\n"
     ]
    }
   ],
   "source": [
    "myLL.removeNode(3)\n",
    "myLL.printLL()"
   ]
  },
  {
   "cell_type": "code",
   "execution_count": 132,
   "id": "53e5d0d3",
   "metadata": {},
   "outputs": [
    {
     "name": "stdout",
     "output_type": "stream",
     "text": [
      "4\n",
      "5\n",
      "10\n",
      "20\n",
      "30\n",
      "35\n",
      "40\n"
     ]
    }
   ],
   "source": [
    "myLL.removeNode(33)\n",
    "myLL.printLL()"
   ]
  },
  {
   "cell_type": "code",
   "execution_count": 133,
   "id": "c9c32d21",
   "metadata": {},
   "outputs": [
    {
     "name": "stdout",
     "output_type": "stream",
     "text": [
      "4\n",
      "5\n",
      "10\n",
      "20\n",
      "30\n",
      "35\n"
     ]
    }
   ],
   "source": [
    "myLL.removeNode(40)\n",
    "myLL.printLL()"
   ]
  },
  {
   "cell_type": "code",
   "execution_count": null,
   "id": "d806ae76",
   "metadata": {},
   "outputs": [],
   "source": []
  }
 ],
 "metadata": {
  "kernelspec": {
   "display_name": "Python 3 (ipykernel)",
   "language": "python",
   "name": "python3"
  },
  "language_info": {
   "codemirror_mode": {
    "name": "ipython",
    "version": 3
   },
   "file_extension": ".py",
   "mimetype": "text/x-python",
   "name": "python",
   "nbconvert_exporter": "python",
   "pygments_lexer": "ipython3",
   "version": "3.9.12"
  }
 },
 "nbformat": 4,
 "nbformat_minor": 5
}
