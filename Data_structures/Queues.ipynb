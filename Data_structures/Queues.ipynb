{
 "cells": [
  {
   "cell_type": "markdown",
   "id": "109782b2",
   "metadata": {},
   "source": [
    "# Queue in Python"
   ]
  },
  {
   "cell_type": "markdown",
   "id": "a40af95b",
   "metadata": {},
   "source": [
    "Operations associated with queue are: \n",
    " \n",
    "\n",
    "Enqueue: Adds an item to the queue. If the queue is full, then it is said to be an Overflow condition – Time Complexity : O(1)\n",
    "\n",
    "Dequeue: Removes an item from the queue. The items are popped in the same order in which they are pushed. If the queue is empty, then it is said to be an Underflow condition – Time Complexity : O(1)\n",
    "\n",
    "Front: Get the front item from queue – Time Complexity : O(1)\n",
    "\n",
    "Rear: Get the last item from queue – Time Complexity : O(1)"
   ]
  },
  {
   "cell_type": "markdown",
   "id": "365eface",
   "metadata": {},
   "source": [
    "# Implementation using list"
   ]
  },
  {
   "cell_type": "markdown",
   "id": "87b036fa",
   "metadata": {},
   "source": [
    "Instead of enqueue() and dequeue(), append() and pop() function is used. \n",
    "\n",
    "However, lists are quite slow for this purpose because inserting or deleting an element at the beginning requires shifting all of the other elements by one, requiring O(n) time."
   ]
  },
  {
   "cell_type": "code",
   "execution_count": 1,
   "id": "1d0b5a42",
   "metadata": {},
   "outputs": [
    {
     "name": "stdout",
     "output_type": "stream",
     "text": [
      "[1, 2, 3]\n"
     ]
    }
   ],
   "source": [
    "q = []\n",
    "\n",
    "q.append(1)\n",
    "q.append(2)\n",
    "q.append(3)\n",
    "\n",
    "print(q)"
   ]
  },
  {
   "cell_type": "code",
   "execution_count": 2,
   "id": "18d0d11a",
   "metadata": {},
   "outputs": [
    {
     "name": "stdout",
     "output_type": "stream",
     "text": [
      "3\n"
     ]
    }
   ],
   "source": [
    "print(q.pop()) #Last in First Out"
   ]
  },
  {
   "cell_type": "code",
   "execution_count": 3,
   "id": "145332b6",
   "metadata": {},
   "outputs": [
    {
     "name": "stdout",
     "output_type": "stream",
     "text": [
      "1\n"
     ]
    }
   ],
   "source": [
    "print(q.pop(0)) #First in First Out"
   ]
  },
  {
   "cell_type": "code",
   "execution_count": 4,
   "id": "119d19dc",
   "metadata": {},
   "outputs": [
    {
     "name": "stdout",
     "output_type": "stream",
     "text": [
      "[2, 4, 5]\n"
     ]
    }
   ],
   "source": [
    "q.append(4)\n",
    "q.append(5)\n",
    "\n",
    "print(q)"
   ]
  },
  {
   "cell_type": "code",
   "execution_count": 5,
   "id": "6160902c",
   "metadata": {},
   "outputs": [
    {
     "name": "stdout",
     "output_type": "stream",
     "text": [
      "2\n",
      "4\n",
      "5\n"
     ]
    }
   ],
   "source": [
    "print(q.pop(0))\n",
    "print(q.pop(0))\n",
    "print(q.pop(0))"
   ]
  },
  {
   "cell_type": "code",
   "execution_count": 6,
   "id": "47d8bac7",
   "metadata": {},
   "outputs": [
    {
     "ename": "IndexError",
     "evalue": "pop from empty list",
     "output_type": "error",
     "traceback": [
      "\u001b[1;31m---------------------------------------------------------------------------\u001b[0m",
      "\u001b[1;31mIndexError\u001b[0m                                Traceback (most recent call last)",
      "Input \u001b[1;32mIn [6]\u001b[0m, in \u001b[0;36m<cell line: 1>\u001b[1;34m()\u001b[0m\n\u001b[1;32m----> 1\u001b[0m \u001b[38;5;28mprint\u001b[39m(\u001b[43mq\u001b[49m\u001b[38;5;241;43m.\u001b[39;49m\u001b[43mpop\u001b[49m\u001b[43m(\u001b[49m\u001b[38;5;241;43m0\u001b[39;49m\u001b[43m)\u001b[49m)\n",
      "\u001b[1;31mIndexError\u001b[0m: pop from empty list"
     ]
    }
   ],
   "source": [
    "print(q.pop(0))"
   ]
  },
  {
   "cell_type": "markdown",
   "id": "243e9eab",
   "metadata": {},
   "source": [
    "# Implementation using collections.deque"
   ]
  },
  {
   "cell_type": "markdown",
   "id": "10c4aa18",
   "metadata": {},
   "source": [
    "Deque is preferred over list in the cases where we need quicker append and pop operations from both the ends of container, \n",
    "\n",
    "as deque provides an O(1) time complexity for append and pop operations as compared to list which provides O(n) time complexity.\n",
    "\n",
    "Instead of enqueue and deque, append() and popleft() functions are used."
   ]
  },
  {
   "cell_type": "code",
   "execution_count": 8,
   "id": "15f4ecd9",
   "metadata": {},
   "outputs": [],
   "source": [
    "from collections import deque\n",
    "\n",
    "q2 = deque()\n",
    "\n",
    "q2.append(10)\n",
    "q2.append(20)\n",
    "q2.append(30)"
   ]
  },
  {
   "cell_type": "code",
   "execution_count": 9,
   "id": "86a58b84",
   "metadata": {},
   "outputs": [
    {
     "name": "stdout",
     "output_type": "stream",
     "text": [
      "deque([10, 20, 30])\n"
     ]
    }
   ],
   "source": [
    "print(q2)"
   ]
  },
  {
   "cell_type": "code",
   "execution_count": 10,
   "id": "7ef46222",
   "metadata": {},
   "outputs": [
    {
     "name": "stdout",
     "output_type": "stream",
     "text": [
      "10\n"
     ]
    }
   ],
   "source": [
    "print(q2.popleft())"
   ]
  },
  {
   "cell_type": "markdown",
   "id": "b1c52c53",
   "metadata": {},
   "source": [
    "# Implementation using queue.Queue"
   ]
  },
  {
   "cell_type": "markdown",
   "id": "6f28c073",
   "metadata": {},
   "source": [
    "There are various functions available in this module: \n",
    " \n",
    " \n",
    "maxsize – Number of items allowed in the queue.\n",
    "\n",
    "empty() – Return True if the queue is empty, False otherwise.\n",
    "\n",
    "full() – Return True if there are maxsize items in the queue. If the queue was initialized with maxsize=0 (the default), then full() never returns True.\n",
    "\n",
    "get() – Remove and return an item from the queue. If queue is empty, wait until an item is available.\n",
    "\n",
    "get_nowait() – Return an item if one is immediately available, else raise QueueEmpty.\n",
    "\n",
    "put(item) – Put an item into the queue. If the queue is full, wait until a free slot is available before adding the item.\n",
    "\n",
    "put_nowait(item) – Put an item into the queue without blocking. If no free slot is immediately available, raise QueueFull.\n",
    "\n",
    "qsize() – Return the number of items in the queue."
   ]
  },
  {
   "cell_type": "code",
   "execution_count": 11,
   "id": "9259ec88",
   "metadata": {},
   "outputs": [],
   "source": [
    "from queue import Queue\n",
    "\n",
    "q3 = Queue(maxsize = 3)"
   ]
  },
  {
   "cell_type": "code",
   "execution_count": 12,
   "id": "3e50329e",
   "metadata": {},
   "outputs": [
    {
     "name": "stdout",
     "output_type": "stream",
     "text": [
      "0\n"
     ]
    }
   ],
   "source": [
    "print(q3.qsize())"
   ]
  },
  {
   "cell_type": "code",
   "execution_count": 13,
   "id": "9f069934",
   "metadata": {},
   "outputs": [
    {
     "name": "stdout",
     "output_type": "stream",
     "text": [
      "<queue.Queue object at 0x000001E19B5AF4F0>\n"
     ]
    }
   ],
   "source": [
    "q3.put(100)\n",
    "q3.put(200)\n",
    "q3.put(300)\n",
    "\n",
    "print(q3)"
   ]
  },
  {
   "cell_type": "code",
   "execution_count": 19,
   "id": "476bdebb",
   "metadata": {},
   "outputs": [
    {
     "name": "stdout",
     "output_type": "stream",
     "text": [
      "Full:  False\n"
     ]
    }
   ],
   "source": [
    "\n",
    "print(\"Full: \", q3.full())"
   ]
  },
  {
   "cell_type": "code",
   "execution_count": 14,
   "id": "961704de",
   "metadata": {},
   "outputs": [
    {
     "name": "stdout",
     "output_type": "stream",
     "text": [
      "\n",
      "Elements dequeued from the queue\n",
      "100\n",
      "200\n",
      "300\n"
     ]
    }
   ],
   "source": [
    "# Removing element from queue\n",
    "print(\"\\nElements dequeued from the queue\")\n",
    "print(q3.get())\n",
    "print(q3.get())\n",
    "print(q3.get())"
   ]
  },
  {
   "cell_type": "code",
   "execution_count": 17,
   "id": "8a3357d1",
   "metadata": {},
   "outputs": [
    {
     "name": "stdout",
     "output_type": "stream",
     "text": [
      "\n",
      "Empty:  False\n"
     ]
    }
   ],
   "source": [
    "# Return Boolean for Empty \n",
    "# Queue \n",
    "print(\"\\nEmpty: \", q3.empty())\n"
   ]
  },
  {
   "cell_type": "code",
   "execution_count": 20,
   "id": "00d922cd",
   "metadata": {},
   "outputs": [
    {
     "name": "stdout",
     "output_type": "stream",
     "text": [
      "\n",
      "Empty:  False\n",
      "Full:  True\n"
     ]
    }
   ],
   "source": [
    "  \n",
    "q3.put(1)\n",
    "print(\"\\nEmpty: \", q3.empty()) \n",
    "print(\"Full: \", q3.full())"
   ]
  },
  {
   "cell_type": "markdown",
   "id": "56492e53",
   "metadata": {},
   "source": [
    "# Deque in Python"
   ]
  },
  {
   "cell_type": "markdown",
   "id": "a827c5ee",
   "metadata": {},
   "source": [
    "Deque (Doubly Ended Queue) in Python is implemented using the module “collections“. \n",
    "\n",
    "Deque is preferred over a list in the cases where we need quicker append and pop operations from both the ends of the container, as deque provides an O(1) time complexity for append and pop operations as compared to a list that provides O(n) time complexity."
   ]
  },
  {
   "cell_type": "markdown",
   "id": "70430986",
   "metadata": {},
   "source": [
    "==Types of Restricted Deque Input==\n",
    "\n",
    "Input Restricted Deque:  Input is limited at one end while deletion is permitted at both ends.\n",
    "    \n",
    "Output Restricted Deque: output is limited at one end but insertion is permitted at both ends.\n"
   ]
  },
  {
   "cell_type": "markdown",
   "id": "adb59011",
   "metadata": {},
   "source": [
    "==Operations on deque =="
   ]
  },
  {
   "cell_type": "markdown",
   "id": "df290091",
   "metadata": {},
   "source": [
    "append():- This function is used to insert the value in its argument to the right end of the deque.\n",
    "    \n",
    "appendleft():- This function is used to insert the value in its argument to the left end of the deque.\n",
    "\n",
    "pop():- This function is used to delete an argument from the right end of the deque.\n",
    "    \n",
    "popleft():- This function is used to delete an argument from the left end of the deque."
   ]
  },
  {
   "cell_type": "markdown",
   "id": "6b8fd44b",
   "metadata": {},
   "source": [
    "index(ele, beg, end):- This function returns the first index of the value mentioned in arguments, starting searching from beg till end index.\n",
    "\n",
    "insert(i, a) :- This function inserts the value mentioned in arguments(a) at index(i) specified in arguments.\n",
    "\n",
    "remove(x):- This function removes the first occurrence of the value mentioned in arguments.\n",
    "\n",
    "count():- This function counts the number of occurrences of value mentioned in arguments."
   ]
  },
  {
   "cell_type": "markdown",
   "id": "68c28e9d",
   "metadata": {},
   "source": [
    "extend(iterable):- This function is used to add multiple values at the right end of the deque. The argument passed is iterable.\n",
    "\n",
    "extendleft(iterable):- This function is used to add multiple values at the left end of the deque. The argument passed is iterable. Order is reversed as a result of left appends.\n",
    "\n",
    "reverse():- This function is used to reverse the order of deque elements.\n",
    "\n",
    "rotate():- This function rotates the deque by the number specified in arguments. If the number specified is negative, rotation occurs to the left. Else rotation is to right."
   ]
  },
  {
   "cell_type": "code",
   "execution_count": null,
   "id": "e49e9f1d",
   "metadata": {},
   "outputs": [],
   "source": []
  }
 ],
 "metadata": {
  "kernelspec": {
   "display_name": "Python 3 (ipykernel)",
   "language": "python",
   "name": "python3"
  },
  "language_info": {
   "codemirror_mode": {
    "name": "ipython",
    "version": 3
   },
   "file_extension": ".py",
   "mimetype": "text/x-python",
   "name": "python",
   "nbconvert_exporter": "python",
   "pygments_lexer": "ipython3",
   "version": "3.9.12"
  }
 },
 "nbformat": 4,
 "nbformat_minor": 5
}
